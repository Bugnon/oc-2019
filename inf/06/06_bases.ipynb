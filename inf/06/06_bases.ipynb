{
 "cells": [
  {
   "cell_type": "markdown",
   "metadata": {},
   "source": [
    "# Les bases de la programmation"
   ]
  },
  {
   "cell_type": "markdown",
   "metadata": {},
   "source": [
    "Objectifs de ce chapitre:\n",
    "* Comprendre les notions de valeur, type et variable\n",
    "* Utiliser une fonction pour afficher des données à l'écran\n",
    "* Utiliser une fonction pour lire des valeurs au clavier\n",
    "* Comprendre les instruction de contrôle : l'instruction conditionnelle, la boucle **for**, la boucle **while**\n",
    "* Etudier les listes et la façon de les parcourir"
   ]
  },
  {
   "cell_type": "markdown",
   "metadata": {},
   "source": [
    "## Variables, valeurs et type"
   ]
  },
  {
   "cell_type": "markdown",
   "metadata": {},
   "source": [
    "### Variable\n",
    "A l'intérieur d'un programme, on doit pouvoir manipuler des valeurs que l'on ne connaît pas au moment où l'on écrit le programme et qui peuvent être différentes à chaque exécution du programme. Pour désigner ces valeurs on leur donne des noms. Ce sont les **variables** du programme. Une variable designe un emplacement en mémoire.\n",
    "\n",
    "Voici l'affection de trois variables avec des valeurs:"
   ]
  },
  {
   "cell_type": "code",
   "execution_count": 1,
   "metadata": {},
   "outputs": [],
   "source": [
    "a = 3\n",
    "x = 1.23\n",
    "msg = 'hello'"
   ]
  },
  {
   "cell_type": "code",
   "execution_count": 2,
   "metadata": {},
   "outputs": [
    {
     "ename": "SyntaxError",
     "evalue": "invalid syntax (<ipython-input-2-b067b14497de>, line 1)",
     "output_type": "error",
     "traceback": [
      "\u001b[0;36m  File \u001b[0;32m\"<ipython-input-2-b067b14497de>\"\u001b[0;36m, line \u001b[0;32m1\u001b[0m\n\u001b[0;31m    12message = 'bonjour'\u001b[0m\n\u001b[0m            ^\u001b[0m\n\u001b[0;31mSyntaxError\u001b[0m\u001b[0;31m:\u001b[0m invalid syntax\n"
     ]
    }
   ],
   "source": [
    "12message = 'bonjour'"
   ]
  },
  {
   "cell_type": "code",
   "execution_count": 3,
   "metadata": {},
   "outputs": [
    {
     "ename": "SyntaxError",
     "evalue": "invalid syntax (<ipython-input-3-949a24583bb3>, line 1)",
     "output_type": "error",
     "traceback": [
      "\u001b[0;36m  File \u001b[0;32m\"<ipython-input-3-949a24583bb3>\"\u001b[0;36m, line \u001b[0;32m1\u001b[0m\n\u001b[0;31m    if = 123\u001b[0m\n\u001b[0m       ^\u001b[0m\n\u001b[0;31mSyntaxError\u001b[0m\u001b[0;31m:\u001b[0m invalid syntax\n"
     ]
    }
   ],
   "source": [
    "if = 123"
   ]
  },
  {
   "cell_type": "markdown",
   "metadata": {},
   "source": [
    "Dans l'exemple ci-dessus on a crée trois variables:\n",
    "* une variable de nom $a$ dont la valeur est l'entier 3\n",
    "* une variable de nom $x$ dont la valeur est le nombre à virgule flottante 1.23\n",
    "* une variable de nom $msg$ dont la valeur est la chaine de caractères `'hello'`\n"
   ]
  },
  {
   "cell_type": "markdown",
   "metadata": {},
   "source": [
    "Le nom d'une variable \n",
    "* est une séquence de lettres, chiffres et du caractère souligné (`_`)\n",
    "* ne doit pas commencer avec un chiffre\n",
    "* ne doit pas être un mot reservé\n",
    "\n",
    "Les mots reservés sont accessible dans Python dans le mdoule `keyword` et peuvent être obtenu comme `keyword.kwlist` et imprimé avec un tabulateur `\\t` comme séparateur."
   ]
  },
  {
   "cell_type": "code",
   "execution_count": 4,
   "metadata": {},
   "outputs": [
    {
     "name": "stdout",
     "output_type": "stream",
     "text": [
      "False\tNone\tTrue\tand\tas\tassert\tasync\tawait\tbreak\tclass\tcontinue\tdef\tdel\telif\telse\texcept\tfinally\tfor\tfrom\tglobal\tif\timport\tin\tis\tlambda\tnonlocal\tnot\tor\tpass\traise\treturn\ttry\twhile\twith\tyield\n"
     ]
    }
   ],
   "source": [
    "import keyword\n",
    "print(*keyword.kwlist, sep='\\t')"
   ]
  },
  {
   "cell_type": "markdown",
   "metadata": {},
   "source": [
    "Après avoir donne une valeur à une variable on afficher sa valeur."
   ]
  },
  {
   "cell_type": "code",
   "execution_count": 5,
   "metadata": {},
   "outputs": [
    {
     "data": {
      "text/plain": [
       "'hello'"
      ]
     },
     "execution_count": 5,
     "metadata": {},
     "output_type": "execute_result"
    }
   ],
   "source": [
    "msg"
   ]
  },
  {
   "cell_type": "markdown",
   "metadata": {},
   "source": [
    "On peut utiliser une variable dans une expréssion mathématique."
   ]
  },
  {
   "cell_type": "code",
   "execution_count": 8,
   "metadata": {},
   "outputs": [
    {
     "data": {
      "text/plain": [
       "110"
      ]
     },
     "execution_count": 8,
     "metadata": {},
     "output_type": "execute_result"
    }
   ],
   "source": [
    "a + 10"
   ]
  },
  {
   "cell_type": "markdown",
   "metadata": {},
   "source": [
    "Une variable peut être modifié à n'importe quel moment."
   ]
  },
  {
   "cell_type": "code",
   "execution_count": 7,
   "metadata": {},
   "outputs": [],
   "source": [
    "a = 100"
   ]
  },
  {
   "cell_type": "markdown",
   "metadata": {},
   "source": [
    "Verifions sa nouvelle valeur."
   ]
  },
  {
   "cell_type": "code",
   "execution_count": 9,
   "metadata": {},
   "outputs": [
    {
     "data": {
      "text/plain": [
       "100"
      ]
     },
     "execution_count": 9,
     "metadata": {},
     "output_type": "execute_result"
    }
   ],
   "source": [
    "a"
   ]
  },
  {
   "cell_type": "markdown",
   "metadata": {},
   "source": [
    "**Définition**  \n",
    "L'**affectation** attribue une valeur à une variable (`var = val`)\n",
    "\n",
    "En mathématique le symbole `=` est utilisé pour indiquer une égalité. En Python (et dans beaucoup d'autre langages) ce n'est pas le cas. C'est l'opérateur d'affectation. `a = b` veut dire qu'on affecte à la variable $a$ la valeur de $b$, et $b$ reste inchangé."
   ]
  },
  {
   "cell_type": "code",
   "execution_count": 10,
   "metadata": {},
   "outputs": [
    {
     "name": "stdout",
     "output_type": "stream",
     "text": [
      "2 2\n"
     ]
    }
   ],
   "source": [
    "a = 1\n",
    "b = 2\n",
    "a = b\n",
    "print(a, b)"
   ]
  },
  {
   "cell_type": "markdown",
   "metadata": {},
   "source": [
    "En mathématique l'équation $a = a + 1$ ne fait pas de sens.  \n",
    "En Python ça veut dire qu'on affecte à la variable $a$ le résultat de $a+1$. Cet opération s'appelle aussi l'**incrémentation**."
   ]
  },
  {
   "cell_type": "code",
   "execution_count": 11,
   "metadata": {},
   "outputs": [
    {
     "data": {
      "text/plain": [
       "2"
      ]
     },
     "execution_count": 11,
     "metadata": {},
     "output_type": "execute_result"
    }
   ],
   "source": [
    "a = 1\n",
    "a = a + 1\n",
    "a"
   ]
  },
  {
   "cell_type": "code",
   "execution_count": 16,
   "metadata": {},
   "outputs": [
    {
     "data": {
      "text/plain": [
       "7"
      ]
     },
     "execution_count": 16,
     "metadata": {},
     "output_type": "execute_result"
    }
   ],
   "source": [
    "a = a + 1\n",
    "a"
   ]
  },
  {
   "cell_type": "code",
   "execution_count": 20,
   "metadata": {},
   "outputs": [
    {
     "data": {
      "text/plain": [
       "11"
      ]
     },
     "execution_count": 20,
     "metadata": {},
     "output_type": "execute_result"
    }
   ],
   "source": [
    "a += 1\n",
    "a"
   ]
  },
  {
   "cell_type": "markdown",
   "metadata": {},
   "source": [
    "### Types\n",
    "Les données sont divisées selon leur nature en différentes catégories appelés des **types**. Les valeurs de différents types sont représenté différemment dans la mémoire de l'ordinateur et permettent des opérations différentes par nature.\n",
    "\n",
    "Les types les plus importantes sont les **nombres entiers** (type int), les **nombres à virgule flottante** (type float) et les **chaînes de caractères** (type str). La fonction `type` retourne le type d'un objet ou du contenu d'une variable."
   ]
  },
  {
   "cell_type": "code",
   "execution_count": 21,
   "metadata": {},
   "outputs": [
    {
     "data": {
      "text/plain": [
       "(int, float, str)"
      ]
     },
     "execution_count": 21,
     "metadata": {},
     "output_type": "execute_result"
    }
   ],
   "source": [
    "type(a), type(x), type(msg)"
   ]
  },
  {
   "cell_type": "markdown",
   "metadata": {},
   "source": [
    "## Fonctions prédéfinies\n",
    "Une **fonction** sert à donner un nom à un ensemble d'instructions effectuant une tâche précise.\n",
    "\n",
    "Une fonction comporte en général des paramètres représentants les données sur lesquelles elle réalise la tâche (ses entrées) et un résultat (sa sortie). Un **appel de fonction** est le nom de la fonction suivie des valeurs d'entrée entre parenthèses. "
   ]
  },
  {
   "cell_type": "markdown",
   "metadata": {},
   "source": [
    "### La fonction `len()`\n",
    "La fonction `len` a un paramètre de type chaîne de caractères et calcule la longueur de cette chaine (length). La fonction produit un résultat: un entier qui correspond au nombre de caractères dans la chaîne."
   ]
  },
  {
   "cell_type": "code",
   "execution_count": 22,
   "metadata": {},
   "outputs": [
    {
     "data": {
      "text/plain": [
       "5"
      ]
     },
     "execution_count": 22,
     "metadata": {},
     "output_type": "execute_result"
    }
   ],
   "source": [
    "len(msg)"
   ]
  },
  {
   "cell_type": "code",
   "execution_count": 29,
   "metadata": {},
   "outputs": [],
   "source": [
    "b = 'bonjour tout le monde'"
   ]
  },
  {
   "cell_type": "markdown",
   "metadata": {},
   "source": [
    "### La fonction `print()`\n",
    "Cette fonction affiche ses paramètres d'entrée dans la console."
   ]
  },
  {
   "cell_type": "code",
   "execution_count": 25,
   "metadata": {},
   "outputs": [
    {
     "name": "stdout",
     "output_type": "stream",
     "text": [
      "11\n"
     ]
    }
   ],
   "source": [
    "print(a)"
   ]
  },
  {
   "cell_type": "markdown",
   "metadata": {},
   "source": [
    "Elle peut aussi afficher deux paramètres."
   ]
  },
  {
   "cell_type": "code",
   "execution_count": 26,
   "metadata": {},
   "outputs": [
    {
     "name": "stdout",
     "output_type": "stream",
     "text": [
      "a = 11\n"
     ]
    }
   ],
   "source": [
    "print('a =', a)"
   ]
  },
  {
   "cell_type": "markdown",
   "metadata": {},
   "source": [
    "Elle peut également afficher quatre paramètres, qui dovient être séparé par une virgule."
   ]
  },
  {
   "cell_type": "code",
   "execution_count": 27,
   "metadata": {},
   "outputs": [
    {
     "name": "stdout",
     "output_type": "stream",
     "text": [
      "a = 11 x = 1.23\n"
     ]
    }
   ],
   "source": [
    "print('a =', a, 'x =', x)"
   ]
  },
  {
   "cell_type": "markdown",
   "metadata": {},
   "source": [
    "La fonction peut prendre d'autres fonctions comme argument."
   ]
  },
  {
   "cell_type": "code",
   "execution_count": 30,
   "metadata": {},
   "outputs": [
    {
     "name": "stdout",
     "output_type": "stream",
     "text": [
      "bonjour tout le monde est de longeur 21\n"
     ]
    }
   ],
   "source": [
    "print(b, 'est de longeur', len(b))"
   ]
  },
  {
   "cell_type": "markdown",
   "metadata": {},
   "source": [
    "### La fonction `input()`\n",
    "Cette fonction permet d'inviter l'utilisateur à entrer une chaîne de caractères. L'execution de cette fonction provoque l'arrêt de l'execution du programme. L'utilisateur doit entrer une suite de caractères au clavier puis appuyer sur *enter*."
   ]
  },
  {
   "cell_type": "code",
   "execution_count": 31,
   "metadata": {},
   "outputs": [
    {
     "name": "stdout",
     "output_type": "stream",
     "text": [
      "Entrez votre nom: \n",
      "Raphael\n",
      "Bonjour Raphael !\n"
     ]
    }
   ],
   "source": [
    "print('Entrez votre nom: ')\n",
    "x = input()\n",
    "print('Bonjour', x, '!')"
   ]
  },
  {
   "cell_type": "markdown",
   "metadata": {},
   "source": [
    "On peut écrire ce program plus compact."
   ]
  },
  {
   "cell_type": "code",
   "execution_count": 33,
   "metadata": {},
   "outputs": [
    {
     "name": "stdout",
     "output_type": "stream",
     "text": [
      "Entrez votre nom: Donald Trum\n",
      "Bonjour Donald Trum !\n",
      "Entrez votre age: 73\n",
      "Vous avez 73 ans!\n"
     ]
    }
   ],
   "source": [
    "nom = input('Entrez votre nom: ')\n",
    "print('Bonjour', nom, '!')\n",
    "age = input('Entrez votre age: ')\n",
    "print('Vous avez', age, 'ans!')"
   ]
  },
  {
   "cell_type": "markdown",
   "metadata": {},
   "source": [
    "Attention, la fonction `input()` retourne tourjours une chaîne, même si l'utilisateur a entré un nombre. Si vous voulez utiliser la valeur comme nombre vous devez la convertier en entier avec la fonction `int(val)` ou en nombre à virgule flottante avec `float(val)`"
   ]
  },
  {
   "cell_type": "code",
   "execution_count": 35,
   "metadata": {},
   "outputs": [
    {
     "name": "stdout",
     "output_type": "stream",
     "text": [
      "Entrez un nombre: 5\n",
      "Son cube est 125\n"
     ]
    }
   ],
   "source": [
    "val = input('Entrez un nombre: ')\n",
    "print('Son cube est', int(val) ** 3)"
   ]
  },
  {
   "cell_type": "markdown",
   "metadata": {},
   "source": [
    "## Instructions conditionnelle\n",
    "Un programme est une séquence d'instructions. Une *instruction conditionelle* présente un aiguillage dans l'ordre des instructions executése."
   ]
  },
  {
   "cell_type": "markdown",
   "metadata": {},
   "source": [
    "### Construction `if ... else`\n",
    "La construction `if-else` permet de faire un choix entre deux options basé sur une condition. Dans l'exemple ci-dessous, basé sur la condition $x \\gt 0$ nous affichons \n",
    "* x is positive (if)\n",
    "* x is negative (else)\n",
    "\n",
    "Le **diagramme de flux** présente les conditions avec un *losange* et les blocs conditionnels avec un *rectangle*.\n",
    "\n",
    "![img](img/06-if.svg)"
   ]
  },
  {
   "cell_type": "code",
   "execution_count": 38,
   "metadata": {},
   "outputs": [
    {
     "name": "stdout",
     "output_type": "stream",
     "text": [
      "0 is negative\n"
     ]
    }
   ],
   "source": [
    "x = 0\n",
    "if x > 0 : \n",
    "    print(x, 'is positive')\n",
    "else:\n",
    "    print(x, 'is negative')"
   ]
  },
  {
   "cell_type": "markdown",
   "metadata": {},
   "source": [
    "Notons deux contraintes syntaxiques importents:\n",
    "* après `if` et `else` la ligne se termine avec un **deux-points** (`:`)\n",
    "* les instructions qui font partie du bloc conditionnel sont **indenté**"
   ]
  },
  {
   "cell_type": "markdown",
   "metadata": {},
   "source": [
    "### Construction `elif`\n",
    "On peut enchaîner plusieurs conditions avec `elif` (contraction de else if). Cela donne un aiguillage à plus que deux branches. Le train du programme choisit la première branche dont la condition est vraie. \n",
    "\n",
    "![img](img/06-elif.svg)"
   ]
  },
  {
   "cell_type": "code",
   "execution_count": 41,
   "metadata": {},
   "outputs": [
    {
     "name": "stdout",
     "output_type": "stream",
     "text": [
      "-5 is negative\n"
     ]
    }
   ],
   "source": [
    "x = -5\n",
    "if x > 0 : \n",
    "    print(x, 'is positive')\n",
    "elif x == 0:\n",
    "    print(x, 'is zero')\n",
    "else:\n",
    "    print(x, 'is negative')"
   ]
  },
  {
   "cell_type": "code",
   "execution_count": 43,
   "metadata": {},
   "outputs": [
    {
     "name": "stdout",
     "output_type": "stream",
     "text": [
      "0 is zero\n"
     ]
    }
   ],
   "source": [
    "x = 0\n",
    "if x > 0 : \n",
    "    print(x, 'is positive')\n",
    "else:\n",
    "    if x == 0:\n",
    "        print(x, 'is zero')\n",
    "    else:\n",
    "        print(x, 'is negative')"
   ]
  },
  {
   "cell_type": "markdown",
   "metadata": {},
   "source": [
    "### Les conditions\n",
    "L'expression qui suit `if` ou `elif` s'appelle une **condition** ou une **expression booléenne**. C'est une expression dont le résultat est vrai (True) ou faux (False). Attention, en Python, la majuscule à `True` et `False` est importante et ne dois pas être remplacé par une minuscule. On appelle **opérateur de comparaison** un opérateur qui compare deux valeurs. Il en a six:\n",
    "* `==` égal\n",
    "* `!=` différent\n",
    "* `< ` inférieur\n",
    "* `<=` inféreur ou égal\n",
    "* `> ` supérieur\n",
    "* `>=` supérieur ou égal"
   ]
  },
  {
   "cell_type": "code",
   "execution_count": 44,
   "metadata": {},
   "outputs": [
    {
     "data": {
      "text/plain": [
       "(False, True, False)"
      ]
     },
     "execution_count": 44,
     "metadata": {},
     "output_type": "execute_result"
    }
   ],
   "source": [
    "2 > 2, 2 >= 2, 2 != 2"
   ]
  },
  {
   "cell_type": "markdown",
   "metadata": {},
   "source": [
    "On peut combiner plusieurs conditions avec les opérateurs logiques `and`, `or` et `not`. Par exemple pour vérifier si une variable $x$ est à l'intéreure de l'intervalle $[a, b]$ on peut écrire"
   ]
  },
  {
   "cell_type": "code",
   "execution_count": 48,
   "metadata": {},
   "outputs": [
    {
     "data": {
      "text/plain": [
       "True"
      ]
     },
     "execution_count": 48,
     "metadata": {},
     "output_type": "execute_result"
    }
   ],
   "source": [
    "x = 2\n",
    "(a, b) = (2, 5)\n",
    "x >= a and x <= b"
   ]
  },
  {
   "cell_type": "markdown",
   "metadata": {},
   "source": [
    "Et voici le cas ou $x$ se situe en dehors de l'intervalle $[a, b]$."
   ]
  },
  {
   "cell_type": "code",
   "execution_count": 49,
   "metadata": {},
   "outputs": [
    {
     "data": {
      "text/plain": [
       "False"
      ]
     },
     "execution_count": 49,
     "metadata": {},
     "output_type": "execute_result"
    }
   ],
   "source": [
    "x = 10\n",
    "x >= a and x <= b"
   ]
  },
  {
   "cell_type": "markdown",
   "metadata": {},
   "source": [
    "Python permet d'ecrire une telle comparaison double de façon plus compacte."
   ]
  },
  {
   "cell_type": "code",
   "execution_count": 50,
   "metadata": {},
   "outputs": [
    {
     "data": {
      "text/plain": [
       "True"
      ]
     },
     "execution_count": 50,
     "metadata": {},
     "output_type": "execute_result"
    }
   ],
   "source": [
    "x = 3\n",
    "a <= x <= b"
   ]
  },
  {
   "cell_type": "markdown",
   "metadata": {},
   "source": [
    "## Les boucles\n",
    "Pour la majorité des programmes, il existent des tâches répétitives. La pluspart des lanage de programation offrent des **instructions de boucle**. Il en existent deux types dans Python: `for` et `while`."
   ]
  },
  {
   "cell_type": "markdown",
   "metadata": {},
   "source": [
    "### Boucle `for`\n",
    "Dans cette instruction la variable `i` sert à numéroter les itérations de la boucle, commençant à 0. La première fois `i` vaut 0, ensuite 1, et ainsi de suite. "
   ]
  },
  {
   "cell_type": "code",
   "execution_count": 54,
   "metadata": {},
   "outputs": [
    {
     "name": "stdout",
     "output_type": "stream",
     "text": [
      "2\n",
      "4\n",
      "6\n",
      "8\n"
     ]
    }
   ],
   "source": [
    "for i in range(2, 10, 2):\n",
    "    print(i)"
   ]
  },
  {
   "cell_type": "markdown",
   "metadata": {},
   "source": [
    "La fonction `range` sert à définir un intervalle d'entiers entre deux bornes. La borne inférieur étant comprise dans l'intervalle, la borne supérieure ne l'étant pas."
   ]
  },
  {
   "cell_type": "code",
   "execution_count": 55,
   "metadata": {},
   "outputs": [
    {
     "name": "stdout",
     "output_type": "stream",
     "text": [
      "10 100\n",
      "11 121\n",
      "12 144\n",
      "13 169\n"
     ]
    }
   ],
   "source": [
    "for i in range(10, 14):\n",
    "    print(i, i * i)"
   ]
  },
  {
   "cell_type": "markdown",
   "metadata": {},
   "source": [
    "Notons deux contraintes syntaxiques importents:  \n",
    "* Comme pour `if` et `else` la ligne `for` se termine avec un **deux-points** (:)  \n",
    "* Les instructions qui font partie de la boucle sont **indenté**\n",
    "\n",
    "Le diagramme de flux pour l'instruction\n",
    "```\n",
    "for i in range(a, b):\n",
    "   instructions\n",
    "```\n",
    "est donné par le diagramme de flux ci-dessous\n",
    "\n",
    "![img](img/06-for.svg)\n",
    "\n",
    "Au début de la boucle $a$ est affecté à la variable $i$. Si à ce moment $i < b$ et faux, le corps de la boucle n'est jamais exécuté du tout. Après chaque itération, la variable $i$ est incrémenté $i = i + 1$. Au moment ou $i < b$ devient faux, le corps de la boucle n'est plus exécuté."
   ]
  },
  {
   "cell_type": "markdown",
   "metadata": {},
   "source": [
    "### Boucle `while`\n",
    "La boucle `while` sert lorsque, au moment où débute l'exécution, on ne peut pas prédire combien de fois il faudra exécuter le corps de la boucle.\n",
    "\n",
    "Dans la boucle ci-dessous, l'utilisateur peut entrer un certains nombre de valeurs et le programme calcule la somme et la moyenne de ces valeurs. Pour terminer la saisie, il doit entrer la valeur 0."
   ]
  },
  {
   "cell_type": "code",
   "execution_count": 56,
   "metadata": {},
   "outputs": [
    {
     "name": "stdout",
     "output_type": "stream",
     "text": [
      "Calcul de somme et moyenne\n",
      "nombre = 3\n",
      "nombre = 4\n",
      "nombre = 5\n",
      "nombre = 0\n",
      "somme = 12\n",
      "moyenne = 4.0\n"
     ]
    }
   ],
   "source": [
    "print('Calcul de somme et moyenne')\n",
    "somme = 0\n",
    "n = 0\n",
    "x = int(input('nombre = '))\n",
    "while x != 0 : \n",
    "    somme = somme + x\n",
    "    n = n + 1\n",
    "    x = int(input('nombre = '))\n",
    "print('somme =', somme)\n",
    "print('moyenne =', somme/n)"
   ]
  },
  {
   "cell_type": "markdown",
   "metadata": {},
   "source": [
    "## Listes\n",
    "En Python, une liste est donné par une collection de valeurs séparé par des virgules et enfermés entre des **crochets**."
   ]
  },
  {
   "cell_type": "code",
   "execution_count": 57,
   "metadata": {},
   "outputs": [],
   "source": [
    "P = [2, 3, 5, 7]\n",
    "N = ['Anna', 'Bertha', 'Carla']\n",
    "A = [1, 1.23, 'hello']"
   ]
  },
  {
   "cell_type": "markdown",
   "metadata": {},
   "source": [
    "* La liste $P$ contient 4 entiers. \n",
    "* La liste $N$ contient 3 chaînes de caractères.\n",
    "* La liste $A$ contient un mélage d'entier, nombre à virgule flottante et chaîne de caractères.\n",
    "\n",
    "Dans une liste chaque élément est numéroté par son **indice** ou son **index**. Le premier élément d'une liste a toujours l'indice zéro. On peux accéder à un élément de liste en utilisant son index entre crochets."
   ]
  },
  {
   "cell_type": "code",
   "execution_count": 58,
   "metadata": {},
   "outputs": [
    {
     "data": {
      "text/plain": [
       "(2, 'Bertha')"
      ]
     },
     "execution_count": 58,
     "metadata": {},
     "output_type": "execute_result"
    }
   ],
   "source": [
    "P[0], N[1]"
   ]
  },
  {
   "cell_type": "markdown",
   "metadata": {},
   "source": [
    "La fonction `len` permet de trouver la longeur de la liste."
   ]
  },
  {
   "cell_type": "code",
   "execution_count": 59,
   "metadata": {},
   "outputs": [
    {
     "data": {
      "text/plain": [
       "(4, 3, 3)"
      ]
     },
     "execution_count": 59,
     "metadata": {},
     "output_type": "execute_result"
    }
   ],
   "source": [
    "len(P), len(N), len(A)"
   ]
  },
  {
   "cell_type": "markdown",
   "metadata": {},
   "source": [
    "Une liste est modifiable. Il suffit pour cela d'affecter a un élément une nouvelle valeur."
   ]
  },
  {
   "cell_type": "code",
   "execution_count": 60,
   "metadata": {},
   "outputs": [
    {
     "data": {
      "text/plain": [
       "['Anna', 'Barbie', 'Carla']"
      ]
     },
     "execution_count": 60,
     "metadata": {},
     "output_type": "execute_result"
    }
   ],
   "source": [
    "N[1] = 'Barbie'\n",
    "N"
   ]
  },
  {
   "cell_type": "markdown",
   "metadata": {},
   "source": [
    "Nous pouvons enlever un élément avec la fonction `del`. Tous les éléments seront décalé et la longuer de la liste diminue de 1."
   ]
  },
  {
   "cell_type": "code",
   "execution_count": 61,
   "metadata": {},
   "outputs": [
    {
     "data": {
      "text/plain": [
       "[3, 5, 7]"
      ]
     },
     "execution_count": 61,
     "metadata": {},
     "output_type": "execute_result"
    }
   ],
   "source": [
    "del(P[0])\n",
    "P"
   ]
  },
  {
   "cell_type": "markdown",
   "metadata": {},
   "source": [
    "L'opérateur `+` permet de créer une nouvelle liste en concatenant deux listes."
   ]
  },
  {
   "cell_type": "code",
   "execution_count": 62,
   "metadata": {},
   "outputs": [
    {
     "data": {
      "text/plain": [
       "[3, 5, 7, 11, 13, 17, 19]"
      ]
     },
     "execution_count": 62,
     "metadata": {},
     "output_type": "execute_result"
    }
   ],
   "source": [
    "P = P + [11, 13, 17, 19]\n",
    "P"
   ]
  },
  {
   "cell_type": "code",
   "execution_count": 63,
   "metadata": {},
   "outputs": [
    {
     "data": {
      "text/plain": [
       "['Anna', 'Barbie', 'Carla', 1, 1.23, 'hello']"
      ]
     },
     "execution_count": 63,
     "metadata": {},
     "output_type": "execute_result"
    }
   ],
   "source": [
    "N + A"
   ]
  },
  {
   "cell_type": "markdown",
   "metadata": {},
   "source": [
    "La boucle `for` permet également de parcourir une boucle "
   ]
  },
  {
   "cell_type": "code",
   "execution_count": 64,
   "metadata": {},
   "outputs": [
    {
     "name": "stdout",
     "output_type": "stream",
     "text": [
      "Hello Anna !\n",
      "Hello Barbie !\n",
      "Hello Carla !\n"
     ]
    }
   ],
   "source": [
    "for n in N:\n",
    "    print('Hello', n, '!')"
   ]
  },
  {
   "cell_type": "markdown",
   "metadata": {
    "toc-hr-collapsed": true
   },
   "source": [
    "## Exercices"
   ]
  },
  {
   "cell_type": "markdown",
   "metadata": {},
   "source": [
    "### 1 - Tarif piscine\n",
    "Ecrire un programme qui calcule le tarif d'entrée d'une piscine sachant que les mineurs paient 2 euros et les majeurs 4. Le programme doit demander à l'utilisateur son âge et afficher le tarif correspondant."
   ]
  },
  {
   "cell_type": "code",
   "execution_count": null,
   "metadata": {},
   "outputs": [],
   "source": [
    "age = int(input('Quel est votre age? '))\n"
   ]
  },
  {
   "cell_type": "markdown",
   "metadata": {},
   "source": [
    "### 2 - Puissance\n",
    "Edcrire avec une boucle un programme qui calcule les 10 premières puissances de 2. Modifier ensuite le programme pour qu'il affiche les 10 premières puissances d'un nombre entrée au clavier."
   ]
  },
  {
   "cell_type": "code",
   "execution_count": null,
   "metadata": {},
   "outputs": [],
   "source": [
    "n = int(input('Entrez un nombre: '))\n"
   ]
  },
  {
   "cell_type": "markdown",
   "metadata": {},
   "source": [
    "### 3 - Chaîne de caractères\n",
    "Ecrire en utilisant une boucle un programme qui crée une chaîne de caractères de longueur $n$ contanent $n$ occurences d'un caractère $c$ où $n$ et $c$ sont entrés au clavier. Vous utiliserez pour cela la concaténation de chaîne (opérateur +)."
   ]
  },
  {
   "cell_type": "code",
   "execution_count": null,
   "metadata": {},
   "outputs": [],
   "source": [
    "c = input('Entrez un caractère: ')\n",
    "n = int(input('Entrez un nombre: '))\n"
   ]
  },
  {
   "cell_type": "markdown",
   "metadata": {},
   "source": [
    "### 4 - Horaire bus\n",
    "Ecrire un programme qui calcule la fréquence de passage d'un bus. Les règles sont les suivantes: Le week-end, le bus passe toutes les 15 minutes. En semaine, il passe toutes les 10 minutes en heures creuses et toutes les 7 minutes en heures d'affluence. Les heures d'affluence sont entre 7h et 10h et entre 17h et 19h. Le programme doit donc demander à l'utilisateur un jour et une heure et afficher la fréquence de bus correspondante. On suppose que l'utilisateur entre toujours une réponse qui a du sense"
   ]
  },
  {
   "cell_type": "code",
   "execution_count": null,
   "metadata": {},
   "outputs": [],
   "source": [
    "jour = input('Entrez le jour de semaine: ')\n",
    "heure = int(input(\"Entrez l'heure: \"))\n"
   ]
  },
  {
   "cell_type": "markdown",
   "metadata": {},
   "source": [
    "### 5 - Horaire bus après vérification\n",
    "Améliorer le programme précédent en vérifiant les saisies utililisateur. Le programme doit redemander un jour tant que le mot entré par l'utilisateur est incorrect. Même chose pour l'heure."
   ]
  },
  {
   "cell_type": "code",
   "execution_count": null,
   "metadata": {},
   "outputs": [],
   "source": [
    "jours = ('lundi', 'mardi', 'mercredi', 'jeudi', 'vendredi', 'samedi', 'dimanche')\n"
   ]
  },
  {
   "cell_type": "markdown",
   "metadata": {},
   "source": [
    "### 6 - Affichage des horaires\n",
    "Afficher toutes les horaires de passage du bus pour un jour demandé à l'utilisateur. Les horaires d'une même heure doivent se trouver sur une seule ligne"
   ]
  },
  {
   "cell_type": "code",
   "execution_count": null,
   "metadata": {},
   "outputs": [],
   "source": [
    "jours = ('lundi', 'mardi', 'mercredi', 'jeudi', 'vendredi', 'samedi', 'dimanche')\n"
   ]
  }
 ],
 "metadata": {
  "kernelspec": {
   "display_name": "Python 3",
   "language": "python",
   "name": "python3"
  },
  "language_info": {
   "codemirror_mode": {
    "name": "ipython",
    "version": 3
   },
   "file_extension": ".py",
   "mimetype": "text/x-python",
   "name": "python",
   "nbconvert_exporter": "python",
   "pygments_lexer": "ipython3",
   "version": "3.7.1"
  },
  "toc-autonumbering": false
 },
 "nbformat": 4,
 "nbformat_minor": 2
}
