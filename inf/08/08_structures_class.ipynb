{
 "cells": [
  {
   "cell_type": "markdown",
   "metadata": {},
   "source": [
    "# Chapitre 8 - Structures de données"
   ]
  },
  {
   "cell_type": "markdown",
   "metadata": {},
   "source": [
    "**Objectifs**\n",
    "* presenter les structures *liste, tuple et dictionnaire*\n",
    "* distinguer les données *homogènes et hétérogènes*\n",
    "* utiliser des *listes de listes*\n",
    "* représenter des tableaux et des *matrices*\n",
    "* stocker des données dans des *fichiers*"
   ]
  },
  {
   "cell_type": "markdown",
   "metadata": {},
   "source": [
    "**Définition**  \n",
    "Une **structure de données** est une valeur composée qui regroupe plusieurs valeurs. Elle dispose d'une organisation permettant d'accéder à chacune de ses valeurs.\n",
    "\n",
    "Le liste en est un exemple. Elle\n",
    "- est structuré par son **ordre**\n",
    "- est accédé par ses **indices** (0, 1, …)\n",
    "- est modifiable (**mutable**)"
   ]
  },
  {
   "cell_type": "markdown",
   "metadata": {},
   "source": [
    "## Les listes"
   ]
  },
  {
   "cell_type": "markdown",
   "metadata": {},
   "source": [
    "Une liste est un ensemble d'objets qui \n",
    "- sont délimités par des crochets ``[]``\n",
    "- sont séparés par des virgules ``,``\n",
    "- peuvent être de type différents (entier, texte, logique, ...)"
   ]
  },
  {
   "cell_type": "code",
   "execution_count": 10,
   "metadata": {},
   "outputs": [],
   "source": [
    "a = [1, 'abc', True, [1, 2]]"
   ]
  },
  {
   "cell_type": "code",
   "execution_count": 2,
   "metadata": {},
   "outputs": [
    {
     "data": {
      "text/plain": [
       "[1, 'abc', True, [1, 2]]"
      ]
     },
     "execution_count": 2,
     "metadata": {},
     "output_type": "execute_result"
    }
   ],
   "source": [
    "a"
   ]
  },
  {
   "cell_type": "markdown",
   "metadata": {},
   "source": [
    "### Fonctions\n",
    "Voici deux fonctions ``len`` et ``del`` qui s'appliquent à des listes."
   ]
  },
  {
   "cell_type": "markdown",
   "metadata": {},
   "source": [
    "La fonction ``len`` permet de trouver la longeur de la liste."
   ]
  },
  {
   "cell_type": "code",
   "execution_count": 3,
   "metadata": {},
   "outputs": [
    {
     "data": {
      "text/plain": [
       "4"
      ]
     },
     "execution_count": 3,
     "metadata": {},
     "output_type": "execute_result"
    }
   ],
   "source": [
    "len(a)"
   ]
  },
  {
   "cell_type": "markdown",
   "metadata": {},
   "source": [
    "La fonction ``del``permet de supprimer un élément d'une liste."
   ]
  },
  {
   "cell_type": "code",
   "execution_count": 4,
   "metadata": {},
   "outputs": [],
   "source": [
    "del(a[2])"
   ]
  },
  {
   "cell_type": "markdown",
   "metadata": {},
   "source": [
    "L'élément avec l'indice 2 a été supprimé."
   ]
  },
  {
   "cell_type": "code",
   "execution_count": 6,
   "metadata": {},
   "outputs": [
    {
     "name": "stdout",
     "output_type": "stream",
     "text": [
      "[1, 'abc', [1, 2]]\n",
      "3\n"
     ]
    }
   ],
   "source": [
    "print(a)\n",
    "print(len(a))"
   ]
  },
  {
   "cell_type": "code",
   "execution_count": 9,
   "metadata": {},
   "outputs": [
    {
     "ename": "NameError",
     "evalue": "name 'a' is not defined",
     "output_type": "error",
     "traceback": [
      "\u001b[0;31m---------------------------------------------------------------------------\u001b[0m",
      "\u001b[0;31mNameError\u001b[0m                                 Traceback (most recent call last)",
      "\u001b[0;32m<ipython-input-9-5b65ba3b6532>\u001b[0m in \u001b[0;36m<module>\u001b[0;34m\u001b[0m\n\u001b[0;32m----> 1\u001b[0;31m \u001b[0;32mdel\u001b[0m\u001b[0;34m(\u001b[0m\u001b[0ma\u001b[0m\u001b[0;34m)\u001b[0m\u001b[0;34m\u001b[0m\u001b[0;34m\u001b[0m\u001b[0m\n\u001b[0m",
      "\u001b[0;31mNameError\u001b[0m: name 'a' is not defined"
     ]
    }
   ],
   "source": [
    "del(a)"
   ]
  },
  {
   "cell_type": "markdown",
   "metadata": {},
   "source": [
    "### Méthodes\n",
    "Les méthodes sont comme des fonctions, mais au lieu de passer la liste comme paramètre, la fonction est attaché à la liste par un point ``.``"
   ]
  },
  {
   "cell_type": "markdown",
   "metadata": {},
   "source": [
    "La méthode ``a.append(x)`` ajoute un élément ``x`` à la fin de la liste ``a``."
   ]
  },
  {
   "cell_type": "code",
   "execution_count": 13,
   "metadata": {},
   "outputs": [
    {
     "data": {
      "text/plain": [
       "[1, 'abc', 2, 2, 2]"
      ]
     },
     "execution_count": 13,
     "metadata": {},
     "output_type": "execute_result"
    }
   ],
   "source": [
    "#a = [1, 'abc']\n",
    "a.append(2)\n",
    "a"
   ]
  },
  {
   "cell_type": "markdown",
   "metadata": {},
   "source": [
    "C'est souvent utilisé pour construire une liste. Dans ce cas on commence avec une liste vide ``[]`` et on ajoute un élément ``x`` à chaque itération avec la methode ``append(x)``.  \n",
    "L'exemple suivant demande une entrée et ajoute un nouveau texte à la liste à l'aide d'une boucle."
   ]
  },
  {
   "cell_type": "code",
   "execution_count": 15,
   "metadata": {},
   "outputs": [
    {
     "name": "stdout",
     "output_type": "stream",
     "text": [
      "a\n",
      "b\n",
      "123\n",
      "54\n",
      "\n"
     ]
    },
    {
     "data": {
      "text/plain": [
       "['a', 'b', '123', '54']"
      ]
     },
     "execution_count": 15,
     "metadata": {},
     "output_type": "execute_result"
    }
   ],
   "source": [
    "a = []\n",
    "x = input()\n",
    "while x != '':\n",
    "    a.append(x)\n",
    "    x = input()\n",
    "a"
   ]
  },
  {
   "cell_type": "markdown",
   "metadata": {},
   "source": [
    "La méthode ``insert(i, x)`` permet d'insérer un élément ``x`` dans une liste à l'indice ``i``. Toutes les éléments qui suivent sont décalés."
   ]
  },
  {
   "cell_type": "code",
   "execution_count": 16,
   "metadata": {},
   "outputs": [
    {
     "data": {
      "text/plain": [
       "[1, True, 'abc']"
      ]
     },
     "execution_count": 16,
     "metadata": {},
     "output_type": "execute_result"
    }
   ],
   "source": [
    "a = [1, 'abc']\n",
    "a.insert(1, True)\n",
    "a"
   ]
  },
  {
   "cell_type": "markdown",
   "metadata": {},
   "source": [
    "Ceci est différent de l'affectation qui remplace un élément."
   ]
  },
  {
   "cell_type": "code",
   "execution_count": 17,
   "metadata": {},
   "outputs": [
    {
     "data": {
      "text/plain": [
       "[1, 123, 'abc']"
      ]
     },
     "execution_count": 17,
     "metadata": {},
     "output_type": "execute_result"
    }
   ],
   "source": [
    "a[1] = 123\n",
    "a"
   ]
  },
  {
   "cell_type": "markdown",
   "metadata": {},
   "source": [
    "La méthode ``remove(x)`` enlève un élément ``x`` d'une liste. Elle enlève seulement le premier élément trouvé, mais donne une erreur si l'élément ne fait pas partie de la liste."
   ]
  },
  {
   "cell_type": "code",
   "execution_count": 18,
   "metadata": {},
   "outputs": [
    {
     "data": {
      "text/plain": [
       "[2, 3, 4, 2, 1]"
      ]
     },
     "execution_count": 18,
     "metadata": {},
     "output_type": "execute_result"
    }
   ],
   "source": [
    "a = [1, 2, 3, 4, 2, 1]\n",
    "a.remove(1)\n",
    "a"
   ]
  },
  {
   "cell_type": "code",
   "execution_count": 20,
   "metadata": {},
   "outputs": [
    {
     "ename": "ValueError",
     "evalue": "list.remove(x): x not in list",
     "output_type": "error",
     "traceback": [
      "\u001b[0;31m---------------------------------------------------------------------------\u001b[0m",
      "\u001b[0;31mValueError\u001b[0m                                Traceback (most recent call last)",
      "\u001b[0;32m<ipython-input-20-95fe7bd9fa25>\u001b[0m in \u001b[0;36m<module>\u001b[0;34m\u001b[0m\n\u001b[0;32m----> 1\u001b[0;31m \u001b[0ma\u001b[0m\u001b[0;34m.\u001b[0m\u001b[0mremove\u001b[0m\u001b[0;34m(\u001b[0m\u001b[0;36m1\u001b[0m\u001b[0;34m)\u001b[0m\u001b[0;34m\u001b[0m\u001b[0;34m\u001b[0m\u001b[0m\n\u001b[0m\u001b[1;32m      2\u001b[0m \u001b[0ma\u001b[0m\u001b[0;34m\u001b[0m\u001b[0;34m\u001b[0m\u001b[0m\n",
      "\u001b[0;31mValueError\u001b[0m: list.remove(x): x not in list"
     ]
    }
   ],
   "source": [
    "a.remove(1)\n",
    "a"
   ]
  },
  {
   "cell_type": "code",
   "execution_count": null,
   "metadata": {},
   "outputs": [],
   "source": [
    "#a.remove(1)\n",
    "#ValueError: list.remove(x): x not in list"
   ]
  },
  {
   "cell_type": "markdown",
   "metadata": {},
   "source": [
    "La méthode ``pop(i)`` enlève l'élément i de la liste. Si aucun argument n'est donné, c'est le dernier argument qui est enlevé."
   ]
  },
  {
   "cell_type": "code",
   "execution_count": 21,
   "metadata": {},
   "outputs": [
    {
     "name": "stdout",
     "output_type": "stream",
     "text": [
      "32\n"
     ]
    },
    {
     "data": {
      "text/plain": [
       "[1, 12, 'abc']"
      ]
     },
     "execution_count": 21,
     "metadata": {},
     "output_type": "execute_result"
    }
   ],
   "source": [
    "a = [1, 12, 32, 'abc']\n",
    "print(a.pop(2))\n",
    "a"
   ]
  },
  {
   "cell_type": "markdown",
   "metadata": {},
   "source": [
    "Résumé\n",
    "- ``a.append(x)`` ajoute l'élément ``x`` à la fin de la liste ``a``. \n",
    "- ``a.insert(i, x)`` ajoute l'élément ``x`` à position ``i`` de la liste ``a``.\n",
    "- ``a.remove(x)`` enlève l'élément ``x`` de la liste ``a`` (et donne une erreur s'il n'existe pas).\n",
    "- ``a.pop(i)`` enlève l'élément à la position ``i`` de la liste ``a`` et le retourne comme valeur."
   ]
  },
  {
   "cell_type": "markdown",
   "metadata": {},
   "source": [
    "## Les tuples\n",
    "Le tuple est aussi un ensemble d'objets. Contrairement à la liste il n'est pas modifiable. Une fois construit, le tuple ne change plus.\n",
    "\n",
    "Un tuple est un ensemble d'objets qui:\n",
    "- sont délimités par des parenthèses ``()``\n",
    "- sont séparés par des virgules ``,``\n",
    "- peuvent être de type différent (entier, chaine, booléen, etc.)\n",
    "- peuvent être accédés par un indices entre crochets ``[i]``"
   ]
  },
  {
   "cell_type": "code",
   "execution_count": 22,
   "metadata": {},
   "outputs": [
    {
     "data": {
      "text/plain": [
       "(1, 'abc', True)"
      ]
     },
     "execution_count": 22,
     "metadata": {},
     "output_type": "execute_result"
    }
   ],
   "source": [
    "tup = (1, 'abc', True)\n",
    "tup"
   ]
  },
  {
   "cell_type": "markdown",
   "metadata": {},
   "source": [
    "On peut accéder à une élément en utilisant son indice."
   ]
  },
  {
   "cell_type": "code",
   "execution_count": 23,
   "metadata": {},
   "outputs": [
    {
     "data": {
      "text/plain": [
       "'abc'"
      ]
     },
     "execution_count": 23,
     "metadata": {},
     "output_type": "execute_result"
    }
   ],
   "source": [
    "tup[1]"
   ]
  },
  {
   "cell_type": "markdown",
   "metadata": {},
   "source": [
    "On peut transformer une liste en tuple avec la fonction ``tuple``."
   ]
  },
  {
   "cell_type": "code",
   "execution_count": 24,
   "metadata": {},
   "outputs": [
    {
     "data": {
      "text/plain": [
       "(2, 34, 678)"
      ]
     },
     "execution_count": 24,
     "metadata": {},
     "output_type": "execute_result"
    }
   ],
   "source": [
    "tuple([2, 34, 678])"
   ]
  },
  {
   "cell_type": "markdown",
   "metadata": {},
   "source": [
    "Par contre faire une affectation à un élément de tuple donne une erreur."
   ]
  },
  {
   "cell_type": "code",
   "execution_count": 25,
   "metadata": {},
   "outputs": [
    {
     "ename": "TypeError",
     "evalue": "'tuple' object does not support item assignment",
     "output_type": "error",
     "traceback": [
      "\u001b[0;31m---------------------------------------------------------------------------\u001b[0m",
      "\u001b[0;31mTypeError\u001b[0m                                 Traceback (most recent call last)",
      "\u001b[0;32m<ipython-input-25-93565fecd21b>\u001b[0m in \u001b[0;36m<module>\u001b[0;34m\u001b[0m\n\u001b[0;32m----> 1\u001b[0;31m \u001b[0mtup\u001b[0m\u001b[0;34m[\u001b[0m\u001b[0;36m1\u001b[0m\u001b[0;34m]\u001b[0m \u001b[0;34m=\u001b[0m \u001b[0;36m123\u001b[0m\u001b[0;34m\u001b[0m\u001b[0;34m\u001b[0m\u001b[0m\n\u001b[0m\u001b[1;32m      2\u001b[0m \u001b[0;31m# TypeError: 'tuple' object does not support item assignment\u001b[0m\u001b[0;34m\u001b[0m\u001b[0;34m\u001b[0m\u001b[0;34m\u001b[0m\u001b[0m\n",
      "\u001b[0;31mTypeError\u001b[0m: 'tuple' object does not support item assignment"
     ]
    }
   ],
   "source": [
    "tup[1] = 123\n",
    "# TypeError: 'tuple' object does not support item assignment"
   ]
  },
  {
   "cell_type": "markdown",
   "metadata": {},
   "source": [
    "Avec ``for`` on peut itérer sur un tuple."
   ]
  },
  {
   "cell_type": "code",
   "execution_count": 26,
   "metadata": {},
   "outputs": [
    {
     "name": "stdout",
     "output_type": "stream",
     "text": [
      "1\n",
      "abc\n",
      "True\n"
     ]
    }
   ],
   "source": [
    "for x in tup:\n",
    "    print(x)"
   ]
  },
  {
   "cell_type": "markdown",
   "metadata": {},
   "source": [
    "La fonction ``len`` retourne la longueur d'un tuple."
   ]
  },
  {
   "cell_type": "code",
   "execution_count": 27,
   "metadata": {},
   "outputs": [
    {
     "data": {
      "text/plain": [
       "3"
      ]
     },
     "execution_count": 27,
     "metadata": {},
     "output_type": "execute_result"
    }
   ],
   "source": [
    "len(tup)"
   ]
  },
  {
   "cell_type": "markdown",
   "metadata": {},
   "source": [
    "La fonction ``list`` transforme un tuple en list."
   ]
  },
  {
   "cell_type": "code",
   "execution_count": 28,
   "metadata": {},
   "outputs": [
    {
     "data": {
      "text/plain": [
       "[1, 'abc', True]"
      ]
     },
     "execution_count": 28,
     "metadata": {},
     "output_type": "execute_result"
    }
   ],
   "source": [
    "list(tup)"
   ]
  },
  {
   "cell_type": "markdown",
   "metadata": {},
   "source": [
    "**Pourquoi on a besoin des tuples ? Ne pourrait-on pas juste utiliser des listes ?**  \n",
    "\n",
    "Oui, partout ou on peut utiliser un tuple, on aurait pu utiliser une liste. Une liste est plus puissante et a plus de méthodes. Mais on utilise un tuple:\n",
    "\n",
    "- pour s'assurer que les **données restent constantes** et ne puissent pas être modifiées\n",
    "- pour rendre le programme **plus rapide et plus petit** (les listes étant plus complexes)\n"
   ]
  },
  {
   "cell_type": "markdown",
   "metadata": {},
   "source": [
    "## Les dictionnaires\n",
    "\n",
    "Un dictionnaire est un ensemble de **paires clé-valeur** ou la clé et la valeur peuvent être n'importe quel type, ou presque. \n",
    "\n",
    "Un dictionnaire:\n",
    "- est une **ensemble de paires** ``key:value``\n",
    "- délimité par des accolades ``{}``\n",
    "- séparé par des virgules ``,``\n",
    "- dont les paires **clé:valeurs** sont séparés par un deux-point ``:``"
   ]
  },
  {
   "cell_type": "markdown",
   "metadata": {},
   "source": [
    " Par exemple on peut associer un entier à une chaine ou une chaîne à un entier:"
   ]
  },
  {
   "cell_type": "code",
   "execution_count": 29,
   "metadata": {},
   "outputs": [],
   "source": [
    "en = {1:'one', 2:'two', 3:'three'}\n",
    "it = {'uno':1, 'due':1, 'tre':3}"
   ]
  },
  {
   "cell_type": "code",
   "execution_count": 30,
   "metadata": {},
   "outputs": [
    {
     "data": {
      "text/plain": [
       "'two'"
      ]
     },
     "execution_count": 30,
     "metadata": {},
     "output_type": "execute_result"
    }
   ],
   "source": [
    "en[2]"
   ]
  },
  {
   "cell_type": "code",
   "execution_count": 32,
   "metadata": {},
   "outputs": [
    {
     "data": {
      "text/plain": [
       "1"
      ]
     },
     "execution_count": 32,
     "metadata": {},
     "output_type": "execute_result"
    }
   ],
   "source": [
    "it['uno']"
   ]
  },
  {
   "cell_type": "markdown",
   "metadata": {},
   "source": [
    "Comme dans un vrai dictionnaire, on peut aussi associer deux chaînes."
   ]
  },
  {
   "cell_type": "code",
   "execution_count": 34,
   "metadata": {},
   "outputs": [],
   "source": [
    "en_it = {'one':'uno', 'two':'due', 'three':'tre'}"
   ]
  },
  {
   "cell_type": "markdown",
   "metadata": {},
   "source": [
    "Pour accéder à une valeur, on utilisé sa clé comme indice."
   ]
  },
  {
   "cell_type": "code",
   "execution_count": 35,
   "metadata": {},
   "outputs": [
    {
     "data": {
      "text/plain": [
       "'due'"
      ]
     },
     "execution_count": 35,
     "metadata": {},
     "output_type": "execute_result"
    }
   ],
   "source": [
    "en_it['two']"
   ]
  },
  {
   "cell_type": "code",
   "execution_count": 36,
   "metadata": {},
   "outputs": [],
   "source": [
    "auto = {'immatrication':'SL-98-FG', 'marque':'Peugot', 'model':'306'}"
   ]
  },
  {
   "cell_type": "markdown",
   "metadata": {},
   "source": [
    "On peut ajouter des paires clé-valeur à un dictionnaire par une affectation utilisant une nouvelle clé comme indice."
   ]
  },
  {
   "cell_type": "code",
   "execution_count": 37,
   "metadata": {},
   "outputs": [
    {
     "data": {
      "text/plain": [
       "{'immatrication': 'SL-98-FG',\n",
       " 'marque': 'Peugot',\n",
       " 'model': '306',\n",
       " 'annee': 2016}"
      ]
     },
     "execution_count": 37,
     "metadata": {},
     "output_type": "execute_result"
    }
   ],
   "source": [
    "auto['annee'] = 2016\n",
    "auto"
   ]
  },
  {
   "cell_type": "code",
   "execution_count": 43,
   "metadata": {},
   "outputs": [
    {
     "data": {
      "text/plain": [
       "{'immatrication': 'SL-98-FG',\n",
       " 'marque': 'Peugot',\n",
       " 'model': '306',\n",
       " 'annee': 2016,\n",
       " 'couleur': 'rouge'}"
      ]
     },
     "execution_count": 43,
     "metadata": {},
     "output_type": "execute_result"
    }
   ],
   "source": [
    "auto['couleur'] = 'rouge'\n",
    "auto"
   ]
  },
  {
   "cell_type": "markdown",
   "metadata": {},
   "source": [
    "### Parcourir un dictionnaire\n",
    "La méthode ``keys()`` permet d'itérer sur les clés."
   ]
  },
  {
   "cell_type": "code",
   "execution_count": 38,
   "metadata": {},
   "outputs": [
    {
     "name": "stdout",
     "output_type": "stream",
     "text": [
      "immatrication\n",
      "marque\n",
      "model\n",
      "annee\n"
     ]
    }
   ],
   "source": [
    "for k in auto.keys():\n",
    "    print(k)"
   ]
  },
  {
   "cell_type": "markdown",
   "metadata": {},
   "source": [
    "La méthode ``values()`` permet d'itérer sur les valeurs."
   ]
  },
  {
   "cell_type": "code",
   "execution_count": 39,
   "metadata": {},
   "outputs": [
    {
     "name": "stdout",
     "output_type": "stream",
     "text": [
      "SL-98-FG\n",
      "Peugot\n",
      "306\n",
      "2016\n"
     ]
    }
   ],
   "source": [
    "for v in auto.values():\n",
    "    print(v)"
   ]
  },
  {
   "cell_type": "markdown",
   "metadata": {},
   "source": [
    "La méthode ``items()`` permet d'itérer sur des paires clé-valeur."
   ]
  },
  {
   "cell_type": "code",
   "execution_count": 40,
   "metadata": {},
   "outputs": [
    {
     "name": "stdout",
     "output_type": "stream",
     "text": [
      "immatrication <---> SL-98-FG\n",
      "marque <---> Peugot\n",
      "model <---> 306\n",
      "annee <---> 2016\n"
     ]
    }
   ],
   "source": [
    "for (k, v) in auto.items():\n",
    "    print(k, '<--->', v)"
   ]
  },
  {
   "cell_type": "markdown",
   "metadata": {},
   "source": [
    "Itérer sur un dictionnaire tout court donne ses clés."
   ]
  },
  {
   "cell_type": "code",
   "execution_count": 41,
   "metadata": {},
   "outputs": [
    {
     "name": "stdout",
     "output_type": "stream",
     "text": [
      "immatrication\n",
      "marque\n",
      "model\n",
      "annee\n"
     ]
    }
   ],
   "source": [
    "for k in auto:\n",
    "    print(k)"
   ]
  },
  {
   "cell_type": "markdown",
   "metadata": {},
   "source": [
    "### Exemple d'utilisation\n",
    "Un dictionnaire peut servir à calculer la fréquence des lettres. Un dictionnaire est idéale pour cette tâche, car on a pas besoin de créer une liste pour toutes les lettres au début. A chaque fois une lettre est rencontrée pour la première fois, une nouvelle entrée pour cette lettre est ajouté au dictionnaire et la fréquence pour cette lettre est 1. On crée alors une nouvelle entrée dans le dictionnaire. Si cette même lettre est de nouveau rencontré, on increment le compteur.  \n",
    "La même méthode peut être e pour compter la fréquence des mots dans un ouvrage."
   ]
  },
  {
   "cell_type": "code",
   "execution_count": 42,
   "metadata": {},
   "outputs": [
    {
     "data": {
      "text/plain": [
       "{}"
      ]
     },
     "execution_count": 42,
     "metadata": {},
     "output_type": "execute_result"
    }
   ],
   "source": [
    "s = 'hello beautiful world'\n",
    "freq = {}\n",
    "for c in s:\n",
    "    if c not in freq:\n",
    "        pass\n",
    "    else:\n",
    "        pass\n",
    "        \n",
    "freq"
   ]
  },
  {
   "cell_type": "markdown",
   "metadata": {},
   "source": [
    "La fonction ``list`` permet de transformer un dictionnaire en liste de clés:"
   ]
  },
  {
   "cell_type": "code",
   "execution_count": null,
   "metadata": {},
   "outputs": [],
   "source": [
    "list(freq.keys())"
   ]
  },
  {
   "cell_type": "markdown",
   "metadata": {},
   "source": [
    "En liste de valeurs:"
   ]
  },
  {
   "cell_type": "code",
   "execution_count": null,
   "metadata": {},
   "outputs": [],
   "source": [
    "list(freq.values())"
   ]
  },
  {
   "cell_type": "markdown",
   "metadata": {},
   "source": [
    "Ou en liste de tuples ``(key, value)``:"
   ]
  },
  {
   "cell_type": "code",
   "execution_count": null,
   "metadata": {},
   "outputs": [],
   "source": [
    "list(freq.items())"
   ]
  },
  {
   "cell_type": "markdown",
   "metadata": {},
   "source": [
    "**Terminologie**  \n",
    "Des structures qui permettent l'accès à des valeurs au moyen de clés existent dans de nombreux langages. \n",
    "\n",
    "On les appelles aussi\n",
    "\n",
    "- tableau **associatif**\n",
    "- table de hachage\n",
    "- et en anglais: **hash, map, hashmap**\n"
   ]
  },
  {
   "cell_type": "markdown",
   "metadata": {},
   "source": [
    "# Données homogènes, hétérogènes"
   ]
  },
  {
   "cell_type": "markdown",
   "metadata": {},
   "source": [
    "Les listes suivantes contiennent des éléments homogènes (entiers, chaînes)."
   ]
  },
  {
   "cell_type": "code",
   "execution_count": null,
   "metadata": {},
   "outputs": [],
   "source": [
    "a = [123, 234, 345]"
   ]
  },
  {
   "cell_type": "code",
   "execution_count": null,
   "metadata": {},
   "outputs": [],
   "source": [
    "b = ['jim', 'tom', 'pat']"
   ]
  },
  {
   "cell_type": "markdown",
   "metadata": {},
   "source": [
    "Une liste peux aussi contenir des données hétérogènes:"
   ]
  },
  {
   "cell_type": "code",
   "execution_count": null,
   "metadata": {},
   "outputs": [],
   "source": [
    "c = ['alan', 'rochat', 17, True, '1M3', 2003]"
   ]
  },
  {
   "cell_type": "markdown",
   "metadata": {},
   "source": [
    "On peut parcourir les éléments dans une boucle et afficher leur type:"
   ]
  },
  {
   "cell_type": "code",
   "execution_count": null,
   "metadata": {},
   "outputs": [],
   "source": [
    "for x in c:\n",
    "    print(type(x), x)"
   ]
  },
  {
   "cell_type": "markdown",
   "metadata": {},
   "source": [
    "On peut créer une liste de listes. Une simple indexation retourne alors une liste. Une double indexation retourne alors une élément de la sous-liste."
   ]
  },
  {
   "cell_type": "code",
   "execution_count": null,
   "metadata": {},
   "outputs": [],
   "source": [
    "a = [[1], [2, 3], [4, 5, 6]]\n",
    "print(a[2])\n",
    "print(a[2][1])"
   ]
  },
  {
   "cell_type": "markdown",
   "metadata": {},
   "source": [
    "### Liste de tuples. \n",
    "On l'utilse typiquement pour une liste de coordonnées. On peut acceder par simple et double indexation."
   ]
  },
  {
   "cell_type": "code",
   "execution_count": null,
   "metadata": {},
   "outputs": [],
   "source": [
    "coord = [(1, 1), (5, 1), (6, 7), (1, 5)]\n",
    "print(coord[2])\n",
    "print(coord[2][0])"
   ]
  },
  {
   "cell_type": "markdown",
   "metadata": {},
   "source": [
    "On peut également effacer un élément et en insérer un."
   ]
  },
  {
   "cell_type": "code",
   "execution_count": null,
   "metadata": {},
   "outputs": [],
   "source": [
    "coord.insert(2, (3, 3))\n",
    "coord.pop(4)\n",
    "coord"
   ]
  },
  {
   "cell_type": "markdown",
   "metadata": {},
   "source": [
    "### Exemple de gestion de stock\n",
    "\n",
    "Définissions un stock d'articles d'informatique à l'aide d'une liste de dictionnaires:"
   ]
  },
  {
   "cell_type": "code",
   "execution_count": null,
   "metadata": {},
   "outputs": [],
   "source": [
    "stock = [{'name': 'printer', 'nbr': 4}, \n",
    "         {'name': 'mouse', 'nbr': 12}, \n",
    "         {'name': 'keyboard', 'nbr': 34}]"
   ]
  },
  {
   "cell_type": "markdown",
   "metadata": {},
   "source": [
    "Pour ajouter un une nouvelle catégorie, nous pouvons utiliser la fonction ``append``."
   ]
  },
  {
   "cell_type": "code",
   "execution_count": null,
   "metadata": {},
   "outputs": [],
   "source": [
    "stock.append({'name': 'memory', 'nbr':0})\n",
    "stock"
   ]
  },
  {
   "cell_type": "markdown",
   "metadata": {},
   "source": [
    "### Trouver un élément dans une liste\n",
    "\n",
    "Le défi ici est de trouver dans une liste **stock**, un dictionnaire qui possède un élément spécifique **name**. Pour ce type de recherche la démarche typique est:\n",
    "\n",
    "- initialiser une balise booléenne (found) à ``False``\n",
    "- initialiser un élément (item) à vide\n",
    "- parcourir la boucle (``for x in stock``)\n",
    "- verifier un critère (``==``)\n",
    "- mettre la balise à ``True`` si l'objet et trouvé\n",
    "- mémoriser cet objet (``item = x``)"
   ]
  },
  {
   "cell_type": "code",
   "execution_count": null,
   "metadata": {},
   "outputs": [],
   "source": [
    "name = 'mouse'\n",
    "#name = 'memory'\n",
    "found = False\n",
    "item = {}\n",
    "for x in stock:\n",
    "    if x['name'] == name:\n",
    "        found = True\n",
    "        item = x\n",
    "        \n",
    "found, item"
   ]
  },
  {
   "cell_type": "markdown",
   "metadata": {},
   "source": [
    "Nous pouvons aussi définir une fonction qui \n",
    "- parcourt la liste\n",
    "- retourne l'élement quand il le trouve (return x)\n",
    "- retourne un dictionnaire vide s'il ne le retrouve pas (return {})"
   ]
  },
  {
   "cell_type": "code",
   "execution_count": null,
   "metadata": {},
   "outputs": [],
   "source": [
    "def find_category(stock, name):\n",
    "    pass"
   ]
  },
  {
   "cell_type": "code",
   "execution_count": null,
   "metadata": {},
   "outputs": [],
   "source": [
    "find_category(stock, 'printer')"
   ]
  },
  {
   "cell_type": "code",
   "execution_count": null,
   "metadata": {},
   "outputs": [],
   "source": [
    "find_category(stock, 'cpu')"
   ]
  },
  {
   "cell_type": "markdown",
   "metadata": {},
   "source": [
    "### Supprimer une catégorie\n",
    "\n",
    "Pour supprimer une catégorie, on veut s'assurer que\n",
    "\n",
    "- la catégorie existe, ensuite\n",
    "- son nombre est zéro\n",
    "\n",
    "Si ces conditions ne sont pas remplis, un message d'erreur est affiché."
   ]
  },
  {
   "cell_type": "code",
   "execution_count": null,
   "metadata": {},
   "outputs": [],
   "source": [
    "def remove_category(stock, name):\n",
    "    cat = find_category(stock, name)\n",
    "    \n",
    "    if cat == {}:\n",
    "        pass\n",
    "    elif cat['nbr'] > 0:\n",
    "        pass\n",
    "    else:\n",
    "        pass"
   ]
  },
  {
   "cell_type": "markdown",
   "metadata": {},
   "source": [
    "Testons maintenant les trois possibilités:"
   ]
  },
  {
   "cell_type": "code",
   "execution_count": null,
   "metadata": {},
   "outputs": [],
   "source": [
    "remove_category(stock, 'screen')"
   ]
  },
  {
   "cell_type": "code",
   "execution_count": null,
   "metadata": {},
   "outputs": [],
   "source": [
    "remove_category(stock, 'keyboard')"
   ]
  },
  {
   "cell_type": "code",
   "execution_count": null,
   "metadata": {},
   "outputs": [],
   "source": [
    "remove_category(stock, 'memory')"
   ]
  },
  {
   "cell_type": "markdown",
   "metadata": {},
   "source": [
    "### Changer le stock\n",
    "Faisons maintenant une fonction pour changer le stock. De nouveau nous vérifions que\n",
    "\n",
    "- la catégorie existe\n",
    "- la nouvelle quantité n'est pas négative"
   ]
  },
  {
   "cell_type": "code",
   "execution_count": null,
   "metadata": {},
   "outputs": [],
   "source": [
    "def variation(stock, name, qty):\n",
    "    cat = find_category(stock, name)\n",
    "            \n",
    "    if cat == {}:\n",
    "        pass\n",
    "    elif cat['nbr'] + qty < 0:\n",
    "        pass\n",
    "    else:\n",
    "        pass"
   ]
  },
  {
   "cell_type": "markdown",
   "metadata": {},
   "source": [
    "Verifions maintenant les 3 différants cas:"
   ]
  },
  {
   "cell_type": "code",
   "execution_count": null,
   "metadata": {},
   "outputs": [],
   "source": [
    "variation(stock, 'screen', -10)"
   ]
  },
  {
   "cell_type": "code",
   "execution_count": null,
   "metadata": {},
   "outputs": [],
   "source": [
    "variation(stock, 'printer', -10)"
   ]
  },
  {
   "cell_type": "code",
   "execution_count": null,
   "metadata": {},
   "outputs": [],
   "source": [
    "variation(stock, 'mouse', -10)"
   ]
  },
  {
   "cell_type": "markdown",
   "metadata": {},
   "source": [
    "## Représentation des tableaux et des matrices\n",
    "Dans la vie courante, on souvent besoin de structures de données régies par deux critères différents, représentées sous forme de tableau. Par exemple, on peut représenter de cette façon le chiffre des ventes des voitures électriques en France par modèle et par mois."
   ]
  },
  {
   "cell_type": "markdown",
   "metadata": {},
   "source": [
    "| modèle      | janvier | février | mars | avril |\n",
    "|-------------|---------|---------|------|-------|\n",
    "| Renault Zoé | 733     | 1186    | 1370 | 990   |\n",
    "| Nissan Leaf | 173     | 286     | 717  | 491   |\n",
    "| Peugot iOn  | 161     | 109     | 103  | 86    |"
   ]
  },
  {
   "cell_type": "markdown",
   "metadata": {},
   "source": [
    "Ajouter la deuxième table de la page 147 du livere en Markdown, en utilisant l'outil online sur le site https://www.tablesgenerator.com/markdown_tables# "
   ]
  },
  {
   "cell_type": "markdown",
   "metadata": {},
   "source": [
    "### Listes et dictionnaires comme tableaux à une seule ligne\n",
    "On peut interpréter une liste comme tableau à une seule ligne.\n",
    "\n",
    "| indice  | 0 | 1  | 2  |\n",
    "|---------|---|----|----|\n",
    "| élément | 5 | 12 | 21 |"
   ]
  },
  {
   "cell_type": "code",
   "execution_count": null,
   "metadata": {},
   "outputs": [],
   "source": [
    "a = [5, 12, 2]"
   ]
  },
  {
   "cell_type": "markdown",
   "metadata": {},
   "source": [
    "**Exercice**  \n",
    "Créer un script qui additionne deux vecteurs a et b."
   ]
  },
  {
   "cell_type": "code",
   "execution_count": null,
   "metadata": {},
   "outputs": [],
   "source": [
    "a = [1, 2, 3]\n",
    "b = [10, 10, 20]\n",
    "n = len(a)\n",
    "c = []\n",
    "for i in range(n):\n",
    "    pass\n",
    "c"
   ]
  },
  {
   "cell_type": "markdown",
   "metadata": {},
   "source": [
    "Créer une fonction qui additionne deux vecteurs. La fonction donne un message d'erreur si les deux vecteurs ont une taille différente. Testez la fonction avec deux cas différents."
   ]
  },
  {
   "cell_type": "code",
   "execution_count": null,
   "metadata": {},
   "outputs": [],
   "source": [
    "def vect_add(a, b):\n",
    "    if len(a) != len(b):\n",
    "        print('error: vectors have different length')\n",
    "    else:\n",
    "        result = []\n",
    "        for i in range(len(a)):\n",
    "            pass\n",
    "        return result"
   ]
  },
  {
   "cell_type": "code",
   "execution_count": null,
   "metadata": {},
   "outputs": [],
   "source": [
    "vect_add(a, [10, 10])"
   ]
  },
  {
   "cell_type": "code",
   "execution_count": null,
   "metadata": {},
   "outputs": [],
   "source": [
    "vect_add(a, b)"
   ]
  },
  {
   "cell_type": "markdown",
   "metadata": {},
   "source": [
    "**Exercice**  \n",
    "Créer un script qui retourne la norme d'un vecteur a.  \n",
    "Pour déboguer imprimez toutes les résultats intermédiaires.\n",
    "Importez la fonction ``sqrt`` depuis le module ``math``"
   ]
  },
  {
   "cell_type": "code",
   "execution_count": null,
   "metadata": {},
   "outputs": [],
   "source": [
    "from math import sqrt\n",
    "a = [2, 3, 5]\n",
    "acc = 0\n",
    "for x in a:\n",
    "    pass\n",
    "print(acc)\n",
    "print(sqrt(acc))"
   ]
  },
  {
   "cell_type": "markdown",
   "metadata": {},
   "source": [
    "Transformez le script en fonction. Testez-le avec deux cas différents."
   ]
  },
  {
   "cell_type": "code",
   "execution_count": null,
   "metadata": {},
   "outputs": [],
   "source": [
    "def vect_norm(a):\n",
    "    acc = 0\n",
    "    for x in a:\n",
    "        pass\n",
    "    return sqrt(acc)"
   ]
  },
  {
   "cell_type": "code",
   "execution_count": null,
   "metadata": {},
   "outputs": [],
   "source": [
    "vect_norm([3, 4])"
   ]
  },
  {
   "cell_type": "code",
   "execution_count": null,
   "metadata": {},
   "outputs": [],
   "source": [
    "vect_norm([3, 4, 5])"
   ]
  },
  {
   "cell_type": "markdown",
   "metadata": {},
   "source": [
    "## Le tableau à plusieurs lignes: la matrice 2D\n",
    "\n",
    "Prenons tout d'abord l'exemple d'une matrice à deux dimensions.\n",
    "\n",
    "|    |    |    |    |\n",
    "|----|----|----|----|\n",
    "| 16 | 3  | 2  | 13 |\n",
    "| 5  | 10 | 11 | 8  |\n",
    "| 9  | 6  | 7  | 12 |\n",
    "\n",
    "Pour representer cette matrice il suffit de placer 3 listes à 4 éléments dans une nouvelle liste:"
   ]
  },
  {
   "cell_type": "code",
   "execution_count": null,
   "metadata": {},
   "outputs": [],
   "source": [
    "mat = [[16, 3, 2, 13], [5, 10, 11, 8], [9, 6, 7, 12]]\n",
    "mat"
   ]
  },
  {
   "cell_type": "markdown",
   "metadata": {},
   "source": [
    "Pour accéder à une ligne nous utilisons 1 indice.  \n",
    "Pour accéder à un élément nous utilisons 2 indices."
   ]
  },
  {
   "cell_type": "code",
   "execution_count": null,
   "metadata": {},
   "outputs": [],
   "source": [
    "print(mat[1])\n",
    "print(mat[1][2])"
   ]
  },
  {
   "cell_type": "markdown",
   "metadata": {},
   "source": [
    "### Afficher une matrice\n",
    "Affiche les lignes de la matrice sur des lignes séparées."
   ]
  },
  {
   "cell_type": "code",
   "execution_count": null,
   "metadata": {},
   "outputs": [],
   "source": [
    "for line in mat:\n",
    "    pass"
   ]
  },
  {
   "cell_type": "markdown",
   "metadata": {},
   "source": [
    "Affiche les éléments de chaque ligne sans les crochets et les virgules (Utiliser un ``*`` devant une liste pour passer ses éléments séparément à la fonction)."
   ]
  },
  {
   "cell_type": "code",
   "execution_count": null,
   "metadata": {},
   "outputs": [],
   "source": [
    "for line in mat:\n",
    "    pass"
   ]
  },
  {
   "cell_type": "markdown",
   "metadata": {},
   "source": [
    "Affiche les éléments de chaque ligne aligné avec un tabulateur. (Utiliser l'option ``sep='\\t'``)"
   ]
  },
  {
   "cell_type": "code",
   "execution_count": null,
   "metadata": {},
   "outputs": [],
   "source": [
    "for line in mat:\n",
    "    pass"
   ]
  },
  {
   "cell_type": "markdown",
   "metadata": {},
   "source": [
    "Crée une fonction qui affiche les éléments d'une matrice séparées par des tabulateurs."
   ]
  },
  {
   "cell_type": "code",
   "execution_count": null,
   "metadata": {},
   "outputs": [],
   "source": [
    "def mat_print(mat):\n",
    "    pass"
   ]
  },
  {
   "cell_type": "code",
   "execution_count": null,
   "metadata": {},
   "outputs": [],
   "source": [
    "mat_print(mat)"
   ]
  },
  {
   "cell_type": "markdown",
   "metadata": {},
   "source": [
    "### Transposer une matrice\n",
    "Créer un script qui crée une nouvelle matrice avec les éléments transposé. \n",
    "\n",
    "- Commencez avec une matrice vide. \n",
    "- Ajoutez ensuite des matrice vides pour chaque colonnne. \n",
    "- Affichez toutes les étapes intermédiaires."
   ]
  },
  {
   "cell_type": "code",
   "execution_count": null,
   "metadata": {},
   "outputs": [],
   "source": [
    "mat2 = []\n",
    "print(mat2)\n",
    "n = len(mat[0])\n",
    "\n",
    "for i in range(n):\n",
    "    mat2.append([])\n",
    "print(mat2)\n",
    "    \n",
    "for line in mat:\n",
    "    for i in range(n):\n",
    "        mat2[i].append(line[i])\n",
    "    print(mat2)"
   ]
  },
  {
   "cell_type": "code",
   "execution_count": null,
   "metadata": {},
   "outputs": [],
   "source": [
    "mat_print(mat2)"
   ]
  },
  {
   "cell_type": "markdown",
   "metadata": {},
   "source": [
    "## Représentation interne\n",
    "La mémoire de l'ordinateur est linéaire: c'est une succéssion de mots-mémoires. Chaque emplacement peut accepter une séqunce bineaire et il est identifié par une adresse. Il n'est pas possible de créer directement une structure de données 2D ou 3D."
   ]
  },
  {
   "cell_type": "markdown",
   "metadata": {},
   "source": [
    "Les matrices ``mat`` et ``mat2`` sont représenté par une séquence linéaire en mémoire. "
   ]
  },
  {
   "cell_type": "code",
   "execution_count": null,
   "metadata": {},
   "outputs": [],
   "source": [
    "print('addr:', end='\\t')\n",
    "for i in range(12):\n",
    "    print(i, end='\\t')\n",
    "    \n",
    "print('\\ndata:', end='\\t')\n",
    "for line in mat:\n",
    "    print(*line, sep='\\t', end='\\t')"
   ]
  },
  {
   "cell_type": "code",
   "execution_count": null,
   "metadata": {},
   "outputs": [],
   "source": [
    "print('\\ndata:', end='\\t')\n",
    "for line in mat2:\n",
    "    print(*line, sep='\\t', end='\\t')"
   ]
  },
  {
   "cell_type": "markdown",
   "metadata": {},
   "source": [
    "## Les files d'attente et les piles"
   ]
  },
  {
   "cell_type": "markdown",
   "metadata": {},
   "source": [
    "### Entrée et sortie libre\n",
    "Ce premier exemple est celui d'un parking ou les usagers viennent et partent quand ils souhaitent."
   ]
  },
  {
   "cell_type": "code",
   "execution_count": null,
   "metadata": {},
   "outputs": [],
   "source": [
    "parking = []\n",
    "parking.append(123)\n",
    "parking.append(956)\n",
    "parking.append(643)\n",
    "parking"
   ]
  },
  {
   "cell_type": "code",
   "execution_count": null,
   "metadata": {},
   "outputs": [],
   "source": [
    "parking.remove(956)\n",
    "parking"
   ]
  },
  {
   "cell_type": "markdown",
   "metadata": {},
   "source": [
    "### File d'attente: premier arrivé, premier parti (FIFO)\n",
    "Dans la file d'attente d'un fast-food drive-in la situation est un peu différente. C'est le premier arrivé qui peut partir en premier. Une telle liste est désignée en anglais par l'expression *first in - first out* ou aprégée par l'acronyme **FIFO**."
   ]
  },
  {
   "cell_type": "code",
   "execution_count": null,
   "metadata": {},
   "outputs": [],
   "source": [
    "parking = []\n",
    "parking.append(123)\n",
    "parking.append(956)\n",
    "parking.append(643)\n",
    "parking"
   ]
  },
  {
   "cell_type": "code",
   "execution_count": null,
   "metadata": {},
   "outputs": [],
   "source": [
    "parking.pop(0)"
   ]
  },
  {
   "cell_type": "code",
   "execution_count": null,
   "metadata": {},
   "outputs": [],
   "source": [
    "parking.pop(0)"
   ]
  },
  {
   "cell_type": "markdown",
   "metadata": {},
   "source": [
    "### La pile: dernier arrivé, premier partie (LIFO)\n",
    "Une autre structure de donnée classique est la pile **LIFO** (*last in - first out*) dernier arrivé - premier parti. L'image que représente bien cette structure est celle d'une pile d'assiettes."
   ]
  },
  {
   "cell_type": "markdown",
   "metadata": {},
   "source": [
    "Une application typique est une calculatrice qui utilise la notation polonaise inverse. https://fr.wikipedia.org/wiki/Notation_polonaise_inverse\n",
    "\n",
    "Dans cette notation les operandes sont mis sur une pile. Quand un opérateur (``+, *``) est rencontré, les deux derniers eléments de la piles sont enlevé de la pile. Le résultat de l'opération est de nouveau mis sur la pile.\n",
    "\n",
    "La méthode ``pop()`` sans argument enlève automatiquement le dernier élément de la pile."
   ]
  },
  {
   "cell_type": "code",
   "execution_count": null,
   "metadata": {},
   "outputs": [],
   "source": [
    "print('Polish calculator')\n",
    "\n",
    "stack = []\n",
    "x = input()\n",
    "\n",
    "while x != '':\n",
    "    if x in '+*':\n",
    "        a = stack.pop()\n",
    "        b = stack.pop()\n",
    "        \n",
    "        if x == '+':\n",
    "            pass\n",
    "        elif x == '*':\n",
    "            pass\n",
    "        print(c)\n",
    "        stack.append(c)\n",
    "        \n",
    "    else:\n",
    "        stack.append(int(x))\n",
    "    x = input()"
   ]
  },
  {
   "cell_type": "markdown",
   "metadata": {},
   "source": [
    "## Les fichiers\n",
    "Les structures de données jusqu'à présent sont des structures de données en mémoire, créées par le programme. Elle disparaissent à la fin de l'exécution du programme. Les fichiers sont un moyen de sauvegarder les données sur disque, pour pouvoir les retrouver plus tard."
   ]
  },
  {
   "cell_type": "markdown",
   "metadata": {},
   "source": [
    "Il existe deux sortes de fichiers: \n",
    "- des fichiers texte et \n",
    "- des fichies binaires"
   ]
  },
  {
   "cell_type": "markdown",
   "metadata": {},
   "source": [
    "Dans un **fichier texte** le nombre 12345 peut être écrit comme *séquence de 5 caractères*:"
   ]
  },
  {
   "cell_type": "code",
   "execution_count": null,
   "metadata": {},
   "outputs": [],
   "source": [
    "'12345'"
   ]
  },
  {
   "cell_type": "markdown",
   "metadata": {},
   "source": [
    "Dans un **fichier binaire** ce même nombre est écrit comme une *valeur numérique sous forme de séquence binaire*:"
   ]
  },
  {
   "cell_type": "code",
   "execution_count": null,
   "metadata": {},
   "outputs": [],
   "source": [
    "print('{0:b}'.format(12345))"
   ]
  },
  {
   "cell_type": "markdown",
   "metadata": {},
   "source": [
    "### La fin de ligne\n",
    "Les fichiers texte sont organisés en lignes. Une fin de ligne est notée avec le caractère spéciale ``\\n``. On peut avoir l'impression que c'est deux caractères, mais ce n'est pas le cas. La barre oblique inverse est une balise (escape character) pour signaler un caractère spéciale."
   ]
  },
  {
   "cell_type": "code",
   "execution_count": null,
   "metadata": {},
   "outputs": [],
   "source": [
    "texte = 'un\\ndeux'"
   ]
  },
  {
   "cell_type": "code",
   "execution_count": null,
   "metadata": {},
   "outputs": [],
   "source": [
    "texte"
   ]
  },
  {
   "cell_type": "code",
   "execution_count": null,
   "metadata": {},
   "outputs": [],
   "source": [
    "print(texte)"
   ]
  },
  {
   "cell_type": "markdown",
   "metadata": {},
   "source": [
    "Lors de de l'affichage par ``print`` le ``\\n`` se transforme en fin de ligne. Lorsqu'on compte le nombre des caractères, le caractère ``\\n`` compte comme un."
   ]
  },
  {
   "cell_type": "code",
   "execution_count": null,
   "metadata": {},
   "outputs": [],
   "source": [
    "len(texte)"
   ]
  },
  {
   "cell_type": "markdown",
   "metadata": {},
   "source": [
    "Un fichier peut être ouvert en mode\n",
    "- lecture\n",
    "- écriture\n",
    "\n",
    "Il existent deux variantes d'écriture:\n",
    "- remplacement du fichier précédent\n",
    "- ajout à un fichier existant"
   ]
  },
  {
   "cell_type": "markdown",
   "metadata": {},
   "source": [
    "### Ecriture dans un fichier\n",
    "Pour écrire dans un fichier on doit appeler la fonction ``open(file_name, mode)``. \n",
    "- Le nom de fichier est une chaîne et comporte souvent une extension telle que ``.txt``. \n",
    "- Le mode indique la lecture (``r`` read) ou l'écriture (``w`` write) \n",
    "- La fonction retourne une référence vers le fichier, souvent appelé ``f``\n",
    "\n",
    "La méthode ``write(str)`` ajoute la chaîne au fichier. Elle retourne le nombre de caractères ajoutés au fichier.\n",
    "\n",
    "La méthode ``close()`` ferme le fichier et termine l'écriture ou lecture."
   ]
  },
  {
   "cell_type": "code",
   "execution_count": null,
   "metadata": {},
   "outputs": [],
   "source": [
    "f = open('demo.txt', 'w')\n",
    "f.write('hello')\n",
    "f.write('world')\n",
    "f.close()"
   ]
  },
  {
   "cell_type": "markdown",
   "metadata": {},
   "source": [
    "Pour écrire chaque mot sur une ligne il faut ajouter un ``\\n``."
   ]
  },
  {
   "cell_type": "code",
   "execution_count": null,
   "metadata": {},
   "outputs": [],
   "source": [
    "f = open('demo2.txt', 'w')\n",
    "f.write('hello\\n')\n",
    "f.write('world\\n')\n",
    "f.close()"
   ]
  },
  {
   "cell_type": "markdown",
   "metadata": {},
   "source": [
    "### Quelques commandes magiques\n",
    "La commande magique ``%pwd`` (print working directory) permet d'afficher le dossier actuel."
   ]
  },
  {
   "cell_type": "code",
   "execution_count": null,
   "metadata": {},
   "outputs": [],
   "source": [
    "%pwd"
   ]
  },
  {
   "cell_type": "markdown",
   "metadata": {},
   "source": [
    "La commande magique ``%ls`` (list) permet d'afficher la liste des fichiers dans le dossier actuel."
   ]
  },
  {
   "cell_type": "code",
   "execution_count": null,
   "metadata": {},
   "outputs": [],
   "source": [
    "%ls"
   ]
  },
  {
   "cell_type": "markdown",
   "metadata": {},
   "source": [
    "La commande magique ``%cat filename`` permet d'afficher le contenu d'un fichier."
   ]
  },
  {
   "cell_type": "code",
   "execution_count": null,
   "metadata": {},
   "outputs": [],
   "source": [
    "%cat demo.txt"
   ]
  },
  {
   "cell_type": "code",
   "execution_count": null,
   "metadata": {},
   "outputs": [],
   "source": [
    "%cat demo2.txt"
   ]
  },
  {
   "cell_type": "markdown",
   "metadata": {},
   "source": [
    "### Ecrire une liste dans un fichier\n",
    "Le programme suivant écrit une liste dans un fichier."
   ]
  },
  {
   "cell_type": "code",
   "execution_count": null,
   "metadata": {},
   "outputs": [],
   "source": [
    "cities = ['Paris', 'London', 'Tokyo']\n",
    "\n",
    "f = open('cities.txt', 'w')\n",
    "for x in cities:\n",
    "    pass\n",
    "f.close()"
   ]
  },
  {
   "cell_type": "code",
   "execution_count": null,
   "metadata": {},
   "outputs": [],
   "source": [
    "%cat cities.txt"
   ]
  },
  {
   "cell_type": "markdown",
   "metadata": {},
   "source": [
    "### Ecrire des entrées du clavier vers un fichier\n",
    "Le programme suivant ajoute des entrées du clavier dans un fichier texte. Pour terminer la boucle il faut entrer la chaîne vide."
   ]
  },
  {
   "cell_type": "code",
   "execution_count": null,
   "metadata": {},
   "outputs": [],
   "source": [
    "f = open('input.txt', 'w')\n",
    "x = input()\n",
    "while x != '':\n",
    "    pass\n",
    "    \n",
    "f.close()"
   ]
  },
  {
   "cell_type": "code",
   "execution_count": null,
   "metadata": {},
   "outputs": [],
   "source": [
    "%cat input.txt"
   ]
  },
  {
   "cell_type": "markdown",
   "metadata": {},
   "source": [
    "### Lire un fichier existant\n",
    "La lecture d'un fichier se fait en deux temps. Il faut d'abord ouvir le fichier avec la fonction ``open()``. Cette fonction comporte comme argument le nom de fichier, ainsi comme mode ``r`` (read).\n",
    "Une fois ouvert, la fonction ``readline()`` permet de lire une ligne. Une fois toutes les lignes lues, elle renvoie la chaîne vide. On configure ici la fonction ``print()`` pour ne pas ajouter un ``\\n`` en fin de ligne."
   ]
  },
  {
   "cell_type": "code",
   "execution_count": null,
   "metadata": {},
   "outputs": [],
   "source": [
    "f = open('cities.txt', 'r')\n",
    "print(f.readline(), end='')\n",
    "print(f.readline(), end='')\n",
    "print(f.readline(), end='')\n",
    "f.close()"
   ]
  },
  {
   "cell_type": "markdown",
   "metadata": {},
   "source": [
    "On peut également utiliser une boucle pour parcourir un fichier ligne par ligne, avec la commande ``for line in f:``\n"
   ]
  },
  {
   "cell_type": "code",
   "execution_count": null,
   "metadata": {},
   "outputs": [],
   "source": [
    "f = open('cities.txt', 'r')\n",
    "for line in f:\n",
    "    pass\n",
    "f.close()"
   ]
  },
  {
   "cell_type": "markdown",
   "metadata": {},
   "source": [
    "### Ecrire et lire une liste de nombres\n",
    "Ecrivons d'abord une liste de nombres dans un fichier et vérifions le résultat."
   ]
  },
  {
   "cell_type": "code",
   "execution_count": null,
   "metadata": {},
   "outputs": [],
   "source": [
    "f = open('numbers.txt', 'w')\n",
    "f.write('1\\n23\\n456\\n7890')\n",
    "f.close()\n",
    "%cat numbers.txt"
   ]
  },
  {
   "cell_type": "markdown",
   "metadata": {},
   "source": [
    "Nous lisons ligne par ligne, transformons la chaîne en entier avec ``int`` et ajoutons le nouveau élément à la liste avec ``append``."
   ]
  },
  {
   "cell_type": "code",
   "execution_count": null,
   "metadata": {},
   "outputs": [],
   "source": [
    "a = []\n",
    "f = open('numbers.txt', 'r')\n",
    "for line in f:\n",
    "    pass\n",
    "f.close()\n",
    "a"
   ]
  },
  {
   "cell_type": "markdown",
   "metadata": {},
   "source": [
    "### Lecture de toutes les lignes en une fois\n",
    "On peut lire également tout le contenu du fichier d'un seul coup avec la méthoded ``read()``\n",
    "."
   ]
  },
  {
   "cell_type": "code",
   "execution_count": null,
   "metadata": {},
   "outputs": [],
   "source": [
    "f = open('cities.txt', 'r')\n",
    "s = f.read()\n",
    "print(s)"
   ]
  }
 ],
 "metadata": {
  "kernelspec": {
   "display_name": "Python 3",
   "language": "python",
   "name": "python3"
  },
  "language_info": {
   "codemirror_mode": {
    "name": "ipython",
    "version": 3
   },
   "file_extension": ".py",
   "mimetype": "text/x-python",
   "name": "python",
   "nbconvert_exporter": "python",
   "pygments_lexer": "ipython3",
   "version": "3.7.1"
  }
 },
 "nbformat": 4,
 "nbformat_minor": 2
}
