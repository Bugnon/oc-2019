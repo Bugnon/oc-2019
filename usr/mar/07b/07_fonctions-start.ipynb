{
 "cells": [
  {
   "cell_type": "markdown",
   "metadata": {},
   "source": [
    "# Les fonctions\n",
    "Objectifs de ce chapitre\n",
    "* Comprendre l'utilité de sous-programmes\n",
    "* Savoir écrire une fonction\n",
    "* Connaître la différence entre variable locale/globale\n",
    "* Maîtriser le méchanisme de passage"
   ]
  },
  {
   "cell_type": "markdown",
   "metadata": {},
   "source": [
    "# Qu'est-ce qu'une fonction\n",
    "Une fonction est un petit programme qui rend un service determiné."
   ]
  },
  {
   "cell_type": "markdown",
   "metadata": {},
   "source": [
    "## Sorties d'une fonctions\n",
    "Une fonction peux avoir zéro ou une sorties.  \n",
    "Testez la valeur et le type de sorties des fonctions ``print(123)``, ``input()`` et ``len('abc')``."
   ]
  },
  {
   "cell_type": "code",
   "execution_count": 1,
   "metadata": {},
   "outputs": [
    {
     "name": "stdout",
     "output_type": "stream",
     "text": [
      "123\n",
      "None\n",
      "<class 'NoneType'>\n"
     ]
    }
   ],
   "source": [
    "x = print(123)\n",
    "print(x)\n",
    "print(type(x))"
   ]
  },
  {
   "cell_type": "code",
   "execution_count": 4,
   "metadata": {},
   "outputs": [
    {
     "name": "stdout",
     "output_type": "stream",
     "text": [
      "votre nom: 123546\n",
      "123546\n",
      "<class 'str'>\n"
     ]
    }
   ],
   "source": [
    "x = input('votre nom: ')\n",
    "print(x)\n",
    "print(type(x))"
   ]
  },
  {
   "cell_type": "code",
   "execution_count": 5,
   "metadata": {},
   "outputs": [
    {
     "name": "stdout",
     "output_type": "stream",
     "text": [
      "3\n",
      "<class 'int'>\n"
     ]
    }
   ],
   "source": [
    "x = len('abc')\n",
    "print(x)\n",
    "print(type(x))"
   ]
  },
  {
   "cell_type": "markdown",
   "metadata": {},
   "source": [
    "## Entrées d'une fonction"
   ]
  },
  {
   "cell_type": "markdown",
   "metadata": {},
   "source": [
    "* Faites 3 essais d'utiliser la fonction ``max`` avec un nombre différents d'entrées. \n",
    "* Si vous obtenez une erreur, recopier l'erreur dans la cellule et mettez tous en commentaire."
   ]
  },
  {
   "cell_type": "code",
   "execution_count": 7,
   "metadata": {},
   "outputs": [
    {
     "ename": "TypeError",
     "evalue": "max expected 1 arguments, got 0",
     "output_type": "error",
     "traceback": [
      "\u001b[0;31m---------------------------------------------------------------------------\u001b[0m",
      "\u001b[0;31mTypeError\u001b[0m                                 Traceback (most recent call last)",
      "\u001b[0;32m<ipython-input-7-f914fc853f8f>\u001b[0m in \u001b[0;36m<module>\u001b[0;34m\u001b[0m\n\u001b[0;32m----> 1\u001b[0;31m \u001b[0mmax\u001b[0m\u001b[0;34m(\u001b[0m\u001b[0;34m)\u001b[0m\u001b[0;34m\u001b[0m\u001b[0;34m\u001b[0m\u001b[0m\n\u001b[0m\u001b[1;32m      2\u001b[0m \u001b[0;31m# TypeError: max expected 1 arguments, got 0\u001b[0m\u001b[0;34m\u001b[0m\u001b[0;34m\u001b[0m\u001b[0;34m\u001b[0m\u001b[0m\n",
      "\u001b[0;31mTypeError\u001b[0m: max expected 1 arguments, got 0"
     ]
    }
   ],
   "source": [
    "# max()\n",
    "# TypeError: max expected 1 arguments, got 0"
   ]
  },
  {
   "cell_type": "code",
   "execution_count": 8,
   "metadata": {},
   "outputs": [
    {
     "ename": "TypeError",
     "evalue": "'int' object is not iterable",
     "output_type": "error",
     "traceback": [
      "\u001b[0;31m---------------------------------------------------------------------------\u001b[0m",
      "\u001b[0;31mTypeError\u001b[0m                                 Traceback (most recent call last)",
      "\u001b[0;32m<ipython-input-8-983d653d679b>\u001b[0m in \u001b[0;36m<module>\u001b[0;34m\u001b[0m\n\u001b[0;32m----> 1\u001b[0;31m \u001b[0mmax\u001b[0m\u001b[0;34m(\u001b[0m\u001b[0;36m2\u001b[0m\u001b[0;34m)\u001b[0m\u001b[0;34m\u001b[0m\u001b[0;34m\u001b[0m\u001b[0m\n\u001b[0m\u001b[1;32m      2\u001b[0m \u001b[0;31m# TypeError: 'int' object is not iterable\u001b[0m\u001b[0;34m\u001b[0m\u001b[0;34m\u001b[0m\u001b[0;34m\u001b[0m\u001b[0m\n",
      "\u001b[0;31mTypeError\u001b[0m: 'int' object is not iterable"
     ]
    }
   ],
   "source": [
    "#max(2)\n",
    "# TypeError: 'int' object is not iterable"
   ]
  },
  {
   "cell_type": "code",
   "execution_count": 9,
   "metadata": {},
   "outputs": [
    {
     "data": {
      "text/plain": [
       "30"
      ]
     },
     "execution_count": 9,
     "metadata": {},
     "output_type": "execute_result"
    }
   ],
   "source": [
    "max(2, 30, 4, 5)"
   ]
  },
  {
   "cell_type": "markdown",
   "metadata": {},
   "source": [
    "## Différence avec une fonction mathématique\n",
    "Une fonction informatique ressemble à une fonction mathématique: \n",
    "* elle a des paramètres\n",
    "* elle retourne une valeur\n",
    "* sa syntaxe est similaire: \n",
    "    * nom de fonction\n",
    "    * parenthèses\n",
    "    * liste d'arguments séparés par une virgule\n",
    "    \n",
    "Mais il a aussi de différences. Une fonction informatique peut:\n",
    "* retourner rien (``None``), comme ``print``\n",
    "* avoir un effet secondaire d'écrire vers la console, comme ``print``\n",
    "* modifier une variable\n",
    "* de prendre ses paramètres ailleur, comme ``input``\n"
   ]
  },
  {
   "cell_type": "markdown",
   "metadata": {},
   "source": [
    "# Définir une nouvelle fonction\n",
    "Une fonction \n",
    "* permet d'executer un bout de code **multiple fois**\n",
    "* augmente la **compréhension** du programme\n",
    "* permet la **réutilisation**  de code, en créant des collections (modules, bibliothèques)\n",
    "\n",
    "La syntaxe pour définir une fonction est:\n",
    "```\n",
    "def nom_func(arg0, arg1, ...):\n",
    "    instr\n",
    "    return val\n",
    "```\n",
    "\n",
    "* mot-clé ``def``\n",
    "* nom de fonction\n",
    "* parenthèses\n",
    "* 0 ou plus d'arguments\n",
    "* deux-points (``:``)\n",
    "* bloc indenté\n",
    "* mot-clé ``return`` suivi d'une valeur\n"
   ]
  },
  {
   "cell_type": "markdown",
   "metadata": {},
   "source": [
    "## Fonction sans paramètre\n",
    "Crée une fonction fonction qui dessine un rectangle 4x10 avec la lettre 'H'\n",
    "```\n",
    "HHHHHHHHHH\n",
    "HHHHHHHHHH\n",
    "HHHHHHHHHH\n",
    "HHHHHHHHHH\n",
    "```"
   ]
  },
  {
   "cell_type": "markdown",
   "metadata": {},
   "source": [
    "### Définition"
   ]
  },
  {
   "cell_type": "code",
   "execution_count": 16,
   "metadata": {},
   "outputs": [],
   "source": [
    "def rectangle0():\n",
    "    # print the letter 'H' in 4 lines of 10 caracters\n",
    "    for l in range(4):\n",
    "        print(\"HHHHHHHHHH\")"
   ]
  },
  {
   "cell_type": "markdown",
   "metadata": {},
   "source": [
    "### Appel"
   ]
  },
  {
   "cell_type": "code",
   "execution_count": 18,
   "metadata": {},
   "outputs": [
    {
     "name": "stdout",
     "output_type": "stream",
     "text": [
      "HHHHHHHHHH\n",
      "HHHHHHHHHH\n",
      "HHHHHHHHHH\n",
      "HHHHHHHHHH\n"
     ]
    }
   ],
   "source": [
    "rectangle0()"
   ]
  },
  {
   "cell_type": "markdown",
   "metadata": {},
   "source": [
    "## Fonctions avec paramètres d'entrée\n",
    "Nous allons créer des fonctions plus complexee avec multiples paramètres d'entrée."
   ]
  },
  {
   "cell_type": "markdown",
   "metadata": {},
   "source": [
    "### Rectangle\n",
    "Créer une fonction qui dessine une rectangle avec 3 paramètres d'entrées.\n",
    "```\n",
    "########################################\n",
    "########################################\n",
    "########################################\n",
    "```"
   ]
  },
  {
   "cell_type": "code",
   "execution_count": 30,
   "metadata": {},
   "outputs": [],
   "source": [
    "def rectangle(car, rows, cols):\n",
    "    # print the caracter car in a rectangle of rows-x-cols\n",
    "    line=\"\"\n",
    "    for i in range(cols):\n",
    "        line+=car\n",
    "    for i in range(rows):\n",
    "        print(line)"
   ]
  },
  {
   "cell_type": "code",
   "execution_count": 31,
   "metadata": {},
   "outputs": [],
   "source": [
    "def rectangle2(car, rows, cols):\n",
    "    # print the caracter car in a rectangle of rows-x-cols\n",
    "    for i in range(rows):\n",
    "        print(car*cols)"
   ]
  },
  {
   "cell_type": "code",
   "execution_count": 35,
   "metadata": {},
   "outputs": [
    {
     "name": "stdout",
     "output_type": "stream",
     "text": [
      "##############################\n",
      "##############################\n",
      "##############################\n",
      "##############################\n"
     ]
    }
   ],
   "source": [
    "rectangle('#', 4, 30)"
   ]
  },
  {
   "cell_type": "code",
   "execution_count": 36,
   "metadata": {},
   "outputs": [
    {
     "name": "stdout",
     "output_type": "stream",
     "text": [
      "????????????????????????????????????????????????????????????????\n",
      "????????????????????????????????????????????????????????????????\n",
      "????????????????????????????????????????????????????????????????\n",
      "????????????????????????????????????????????????????????????????\n",
      "????????????????????????????????????????????????????????????????\n",
      "????????????????????????????????????????????????????????????????\n"
     ]
    }
   ],
   "source": [
    "rectangle2('?', 6, 64)"
   ]
  },
  {
   "cell_type": "markdown",
   "metadata": {},
   "source": [
    "### Pyramide\n",
    "Definissez une fonction qui dessine une pyramide symmétrique de hautre $h$.\n",
    "```\n",
    "        &\n",
    "       &&&\n",
    "      &&&&&\n",
    "     &&&&&&&\n",
    "    &&&&&&&&&\n",
    "   &&&&&&&&&&&\n",
    "  &&&&&&&&&&&&&\n",
    " &&&&&&&&&&&&&&&\n",
    " ```"
   ]
  },
  {
   "cell_type": "code",
   "execution_count": 50,
   "metadata": {},
   "outputs": [],
   "source": [
    "def pyramid(car, h):\n",
    "    # print a symmetric pyramid of height h, using caracter c\n",
    "    for i in range(h):\n",
    "        print(\" \"*(h-i)+car*(i+1))"
   ]
  },
  {
   "cell_type": "code",
   "execution_count": 49,
   "metadata": {
    "scrolled": true
   },
   "outputs": [
    {
     "name": "stdout",
     "output_type": "stream",
     "text": [
      "&\n",
      "&&\n",
      "&&&\n",
      "&&&&\n",
      "&&&&&\n",
      "&&&&&&\n",
      "&&&&&&&\n",
      "&&&&&&&&\n"
     ]
    }
   ],
   "source": [
    "pyramid('&', 8)"
   ]
  },
  {
   "cell_type": "markdown",
   "metadata": {},
   "source": [
    "### Boîte\n",
    "Définissez une fonction qui dessine une boite.\n",
    "```\n",
    "XXXXXXXXXXXXXXXXXXXXXXXXXXXXXXXXXXXXXXXXXXXXXXXXXX\n",
    "X                                                X\n",
    "X                                                X\n",
    "X                                                X\n",
    "X                                                X\n",
    "XXXXXXXXXXXXXXXXXXXXXXXXXXXXXXXXXXXXXXXXXXXXXXXXX`\n",
    "```"
   ]
  },
  {
   "cell_type": "code",
   "execution_count": null,
   "metadata": {},
   "outputs": [],
   "source": [
    "def box(c, height, width):\n",
    "    # print a box frame with caracter c and dimension height x width"
   ]
  },
  {
   "cell_type": "code",
   "execution_count": null,
   "metadata": {},
   "outputs": [],
   "source": [
    "box('X', 6, 50)"
   ]
  },
  {
   "cell_type": "markdown",
   "metadata": {},
   "source": [
    "### Table de multiplication\n",
    "Définissez une fonction qui dessine une table de multiplication.  \n",
    "Utilisez des tabulateurs pour l'alignement des colonnes ``print(i, end='\\t')``\n",
    "```\n",
    "1\t2\t3\t4\t5\t6\t7\t\n",
    "---------------------------------\n",
    "1\t2\t3\t4\t5\t6\t7\t\n",
    "2\t4\t6\t8\t10\t12\t14\t\n",
    "3\t6\t9\t12\t15\t18\t21\t\n",
    "```"
   ]
  },
  {
   "cell_type": "code",
   "execution_count": null,
   "metadata": {},
   "outputs": [],
   "source": [
    "def table_multiplication(n, m):\n",
    "    # print a multiplication table with n lines and m colons"
   ]
  },
  {
   "cell_type": "code",
   "execution_count": null,
   "metadata": {},
   "outputs": [],
   "source": [
    "table_multiplication(3, 7)"
   ]
  },
  {
   "cell_type": "markdown",
   "metadata": {},
   "source": [
    "## Fonction qui renvoie un résultat\n",
    "Créez trois fonctions qui calculent le diamètre, la circumférence et la surface d'un cercle, à partir du rayon."
   ]
  },
  {
   "cell_type": "code",
   "execution_count": null,
   "metadata": {},
   "outputs": [],
   "source": [
    "from math import pi\n",
    "\n",
    "def diameter(r):\n",
    "    pass\n",
    "\n",
    "def circumference(r):\n",
    "    return pi * diameter(r)\n",
    "\n",
    "def surface(r):\n",
    "    return pi * r ** 2"
   ]
  },
  {
   "cell_type": "code",
   "execution_count": null,
   "metadata": {},
   "outputs": [],
   "source": [
    "diameter(1.5)"
   ]
  },
  {
   "cell_type": "code",
   "execution_count": null,
   "metadata": {},
   "outputs": [],
   "source": [
    "circumference(1.5)"
   ]
  },
  {
   "cell_type": "code",
   "execution_count": null,
   "metadata": {},
   "outputs": [],
   "source": [
    "surface(1.5)"
   ]
  },
  {
   "cell_type": "markdown",
   "metadata": {},
   "source": [
    "Calculer la somme d'une liste"
   ]
  },
  {
   "cell_type": "code",
   "execution_count": null,
   "metadata": {},
   "outputs": [],
   "source": [
    "def somme(liste):\n",
    "    res = 0\n",
    "    for x in liste:\n",
    "        res = res + x\n",
    "    return res"
   ]
  },
  {
   "cell_type": "code",
   "execution_count": null,
   "metadata": {},
   "outputs": [],
   "source": [
    "somme([2, 3, 14])"
   ]
  },
  {
   "cell_type": "markdown",
   "metadata": {},
   "source": [
    "Calculer la moyenne d'une liste, en utilisant la fonction ``somme()``"
   ]
  },
  {
   "cell_type": "code",
   "execution_count": null,
   "metadata": {},
   "outputs": [],
   "source": [
    "def moyenne(liste):\n",
    "    n = len(liste)\n",
    "    return somme(liste) / n"
   ]
  },
  {
   "cell_type": "code",
   "execution_count": null,
   "metadata": {},
   "outputs": [],
   "source": [
    "liste = [1, 2, 3, 10, 23, 4]\n",
    "moyenne(liste)"
   ]
  },
  {
   "cell_type": "markdown",
   "metadata": {},
   "source": [
    "## Bien comprendre l'instruction return\n",
    "Le mot-clé ``return`` permet de définir le résultat de la fonction."
   ]
  },
  {
   "cell_type": "code",
   "execution_count": null,
   "metadata": {},
   "outputs": [],
   "source": [
    "def sans_return(x):\n",
    "    print(2*x)"
   ]
  },
  {
   "cell_type": "code",
   "execution_count": null,
   "metadata": {},
   "outputs": [],
   "source": [
    "def avec_return(x):\n",
    "    return 2*x"
   ]
  },
  {
   "cell_type": "code",
   "execution_count": null,
   "metadata": {},
   "outputs": [],
   "source": [
    "print(sans_return(20))"
   ]
  },
  {
   "cell_type": "code",
   "execution_count": null,
   "metadata": {},
   "outputs": [],
   "source": [
    "print(avec_return(20))"
   ]
  },
  {
   "cell_type": "markdown",
   "metadata": {},
   "source": [
    "## Execution d'un appel de fonction\n",
    "Les paramètres d'une fonction sont comme des variables. Ils on un nom et lors de l'execution ils sont affecté."
   ]
  },
  {
   "cell_type": "code",
   "execution_count": null,
   "metadata": {},
   "outputs": [],
   "source": [
    "def add2(x):\n",
    "    print('add2: x =', x)\n",
    "    return x + 2"
   ]
  },
  {
   "cell_type": "markdown",
   "metadata": {},
   "source": [
    "La fonction ``add2`` additionne 2 à son argument ``x``.  \n",
    "La variable ``x`` et l'argumment ``x`` sont deux variables bien distinct."
   ]
  },
  {
   "cell_type": "markdown",
   "metadata": {},
   "source": [
    "x = 10\n",
    "add2(1)\n",
    "print('x =', x)"
   ]
  },
  {
   "cell_type": "markdown",
   "metadata": {},
   "source": [
    "La argument ``x`` prend encore une autre valeur (3)."
   ]
  },
  {
   "cell_type": "code",
   "execution_count": null,
   "metadata": {},
   "outputs": [],
   "source": [
    "add2(3)\n",
    "print('x =', x)"
   ]
  },
  {
   "cell_type": "markdown",
   "metadata": {},
   "source": [
    "### Calcul de la valeur des paramètres\n",
    "Lors de l'exécution de l'appel de fonction d'une fonction, la première étape est de calculer les valeurs des paramètres.\n",
    "Le paremètre d'une fonction peux être une expression. L'expression est evalué et le résultat est donné à la fonction."
   ]
  },
  {
   "cell_type": "code",
   "execution_count": null,
   "metadata": {},
   "outputs": [],
   "source": [
    "add2(2*x)\n",
    "print('x =', x)"
   ]
  },
  {
   "cell_type": "markdown",
   "metadata": {},
   "source": [
    "Le paramètre peut même être une fonction."
   ]
  },
  {
   "cell_type": "code",
   "execution_count": null,
   "metadata": {},
   "outputs": [],
   "source": [
    "x = 5\n",
    "add2(add2(2*x))\n",
    "print('x =', x)"
   ]
  },
  {
   "cell_type": "markdown",
   "metadata": {},
   "source": [
    "### Erreur de typage\n",
    "En Python on ne précise pas le type des parmètre des fonctions."
   ]
  },
  {
   "cell_type": "code",
   "execution_count": null,
   "metadata": {},
   "outputs": [],
   "source": [
    "# add2('abc')"
   ]
  },
  {
   "cell_type": "markdown",
   "metadata": {},
   "source": [
    "Par contre la fonction ``mul2`` fonction avec des paramètres de type int, str, bool."
   ]
  },
  {
   "cell_type": "code",
   "execution_count": null,
   "metadata": {},
   "outputs": [],
   "source": [
    "def mul2(x):\n",
    "    print('mul2: x =', x, ' return ', x * 2)\n",
    "    return x * 2"
   ]
  },
  {
   "cell_type": "code",
   "execution_count": null,
   "metadata": {},
   "outputs": [],
   "source": [
    "x = 10\n",
    "mul2(x)\n",
    "mul2('abc')\n",
    "mul2(True)"
   ]
  },
  {
   "cell_type": "markdown",
   "metadata": {},
   "source": [
    "## Fonctions et mémoire"
   ]
  },
  {
   "cell_type": "markdown",
   "metadata": {},
   "source": [
    "## Valeurs mutables et pasage de paramètre"
   ]
  }
 ],
 "metadata": {
  "kernelspec": {
   "display_name": "Python 3",
   "language": "python",
   "name": "python3"
  },
  "language_info": {
   "codemirror_mode": {
    "name": "ipython",
    "version": 3
   },
   "file_extension": ".py",
   "mimetype": "text/x-python",
   "name": "python",
   "nbconvert_exporter": "python",
   "pygments_lexer": "ipython3",
   "version": "3.7.1"
  }
 },
 "nbformat": 4,
 "nbformat_minor": 2
}
