{
 "cells": [
  {
   "cell_type": "markdown",
   "metadata": {},
   "source": [
    "# Editer un notebook Jupyter\n",
    "Entrainez-vous à éditer un notebook Jupyter.  \n",
    "Référence:\n",
    "https://help.github.com/en/articles/basic-writing-and-formatting-"
   ]
  },
  {
   "cell_type": "markdown",
   "metadata": {},
   "source": [
    "## Objectifs\n",
    "Manipuler des cellules  \n",
    "* Basculer entre mode commande/édition\n",
    "* Insérer des cellules code/texte\n",
    "* Editer/exécuter des cellules\n",
    "* Copier/couper/coller des cellules\n",
    "* Numéroter les lignes de code\n",
    "\n",
    "Appliquer des commandes MarkDown\n",
    "* Appliquer 3 niveaux de titre\n",
    "* Créer des liste à puces/numéros\n",
    "* Appliquer les styles gras/italique/barré/code\n",
    "* Insérer un hyperlien\n",
    "* Insérer des images"
   ]
  },
  {
   "cell_type": "markdown",
   "metadata": {},
   "source": [
    "# Manipuler des cellules\n",
    "Dans cette section vous allez créer, configurer et déplacer des cellules."
   ]
  },
  {
   "cell_type": "code",
   "execution_count": 1,
   "metadata": {},
   "outputs": [],
   "source": [
    "# Above"
   ]
  },
  {
   "cell_type": "markdown",
   "metadata": {},
   "source": [
    "## Ajouter des cellules\n",
    "Basculez vers mode de commande (ESC), marqué en bleu.\n",
    "* ajoutez une cellule en-dessus (A - Above)\n",
    "* ajoutez une cellule en-dessous (B - Below)\n",
    "* laissez les cellules en code et ajouter un commentaire (# Above, # Below)"
   ]
  },
  {
   "cell_type": "code",
   "execution_count": 2,
   "metadata": {},
   "outputs": [],
   "source": [
    "# Below"
   ]
  },
  {
   "cell_type": "markdown",
   "metadata": {},
   "source": [
    "## Couper, Copier et coller des cellules\n",
    "Dans le mode commande (ESC) vous pouvez\n",
    "* couper une cellule avec X\n",
    "* copier une cellule avec C\n",
    "* coller une cellule avec V"
   ]
  },
  {
   "cell_type": "markdown",
   "metadata": {},
   "source": [
    "### Exercice\n",
    "* copiez cette cellule (C)\n",
    "* collez-la (V)\n",
    "* collez-la une deuxième fois (V)\n",
    "* coupez-les (X)"
   ]
  },
  {
   "cell_type": "markdown",
   "metadata": {},
   "source": [
    "### Exercice\n",
    "* copiez cette cellule (C)\n",
    "* collez-la (V)\n",
    "* collez-la une deuxième fois (V)\n",
    "* coupez-les (X)"
   ]
  },
  {
   "cell_type": "markdown",
   "metadata": {},
   "source": [
    "## Choisir entre texte et code\n",
    "* transformez en MarkDown (ESC > M)\n",
    "* transformez en Code (ESC > Y)\n",
    "\n",
    "Ci-dessous \n",
    "* créez une cellule MarkDown avec une ligne de texte.\n",
    "* créez une cellule code avec une expression en Python."
   ]
  },
  {
   "cell_type": "markdown",
   "metadata": {},
   "source": [
    "Cellule Markdown"
   ]
  },
  {
   "cell_type": "code",
   "execution_count": 3,
   "metadata": {},
   "outputs": [],
   "source": [
    "# Cellule code"
   ]
  },
  {
   "cell_type": "markdown",
   "metadata": {},
   "source": [
    "## Numérotation des lignes\n",
    "Ajoutez une cellule avec 3 ligne de code Python\n",
    "Numéroter les liges (ESC > L)"
   ]
  },
  {
   "cell_type": "code",
   "execution_count": 4,
   "metadata": {},
   "outputs": [
    {
     "data": {
      "text/plain": [
       "3"
      ]
     },
     "execution_count": 4,
     "metadata": {},
     "output_type": "execute_result"
    }
   ],
   "source": [
    "x = 1\n",
    "y = 2\n",
    "x + y"
   ]
  },
  {
   "cell_type": "markdown",
   "metadata": {},
   "source": [
    "# Appliquer des commandes Markdown\n",
    "Dans cette section vous allez appliquer des balises du langage Markdown pour la mise en forme de texte.\n",
    "\n",
    "Markdown est:\n",
    "* un jeu de mot sur markdown language (langage à balise)\n",
    "* un sous-ensemble de HTML\n",
    "* facile à écrire\n",
    "* facile à lire\n",
    "* utilisé dans GitHub et Jupyter"
   ]
  },
  {
   "cell_type": "markdown",
   "metadata": {},
   "source": [
    "# Titre principal \n",
    "(transformer en heading 1, ESC > 1, ensuite SHIFT+ENTER)"
   ]
  },
  {
   "cell_type": "markdown",
   "metadata": {},
   "source": [
    "## Titre de section\n",
    "(transformer en heading 2, ESC > 2, ensuite SHIFT+ENTER)"
   ]
  },
  {
   "cell_type": "markdown",
   "metadata": {},
   "source": [
    "### Titre de sous-section\n",
    "(transformer en heading 3, ESC > 3, ensuite SHIFT+ENTER)"
   ]
  },
  {
   "cell_type": "markdown",
   "metadata": {},
   "source": [
    "## Paragraphe et retour à la ligne\n",
    "Pour commencer un nouveau paragraphe, mettez une ligne de vide.\n",
    "\n",
    "Pour juste forcer  \n",
    "un retour à la ligne mettez **deux** espace en fin de ligne."
   ]
  },
  {
   "cell_type": "markdown",
   "metadata": {},
   "source": [
    "## Les styles\n",
    "Entourer un bout de texte des balises suivantes pour mettre des stlyes:\n",
    "\n",
    "* la balise ``*`` pour mettre un mot en *italique*\n",
    "* la balise ``**`` pour mettre un mot en **gras**\n",
    "* la balise ``****`` pour mettre un mot en ***gras et italique***\n",
    "* la balise ``~~`` (alt+N) pour ~~barrer~~ un mot."
   ]
  },
  {
   "cell_type": "markdown",
   "metadata": {},
   "source": [
    "## Le style code\n",
    "Utilisez deux apostrophes inclinées en arrière pour désigner des éléments de code à l'intérieur d'une phrase, comme:\n",
    "* des fonctions ``print()``, \n",
    "* des variables ``var1``, \n",
    "* des expressions ``x + y`` et \n",
    "* des mots-clés comme ``if`` et ``else``."
   ]
  },
  {
   "cell_type": "markdown",
   "metadata": {},
   "source": [
    "## Une section de code\n",
    "Utilisez trois apostrophes inclinées en arrière pour désigner une section de code à l'intérieur d'un texte.\n",
    "\n",
    "```\n",
    "for i in range(3):\n",
    "    print(i)\n",
    "```\n",
    "\n",
    "Cette expression imprime trois nombres."
   ]
  },
  {
   "cell_type": "markdown",
   "metadata": {},
   "source": [
    "## Liste à puces\n",
    "Utilisez ``*`` en début de ligne pour créer une liste à puces:\n",
    "* variable\n",
    "* fonction\n",
    "* mot-clé"
   ]
  },
  {
   "cell_type": "markdown",
   "metadata": {},
   "source": [
    "## Liste à numéros\n",
    "Insérer ``1.`` au début de la ligne pour créér une liste à numéros:\n",
    "1. variable\n",
    "1. fonction\n",
    "1. mot-clé\n",
    "\n",
    "Créez une deuxième liste qui commence à 10:\n",
    "\n",
    "10. variable\n",
    "10. fonction\n",
    "10. mot-clé"
   ]
  },
  {
   "cell_type": "markdown",
   "metadata": {},
   "source": [
    "## Liens internet\n",
    "Pour insérer un hyperlien utilisez ``[texte à afficher](URL)``\n",
    "\n",
    "* [EPFL](http://www.epfl.ch)\n",
    "* [Python](http://www.python.org)\n",
    "* [Gymnase du Bugnon](http://www.gymnasedubugnon.ch)"
   ]
  },
  {
   "cell_type": "markdown",
   "metadata": {},
   "source": [
    "## Insertion d'images\n",
    "Pour insérer une image utilisez ``![déscription d'image](URL)``"
   ]
  },
  {
   "cell_type": "markdown",
   "metadata": {},
   "source": [
    "### Depuis un dossier local\n",
    "Insérerez l'image ``waiter.png`` qui se trouve dans le dossier local ``img``\n",
    "\n",
    "![waiter](img/waiter.png)"
   ]
  },
  {
   "cell_type": "markdown",
   "metadata": {},
   "source": [
    "### Depuis internet\n",
    "* Allez sur la page Wikipédia sur le langage Python \n",
    "* Trouvez le logo Python en format PNG et avec une taille de 500 x 500 pixels.\n",
    "* Insérez-le ci dessous\n",
    "![logo](https://upload.wikimedia.org/wikipedia/commons/thumb/c/c3/Python-logo-notext.svg/500px-Python-logo-notext.svg.png)"
   ]
  },
  {
   "cell_type": "markdown",
   "metadata": {},
   "source": [
    "# Finaliser faire un PDF\n",
    "Menu Kernel > Restart & Run all\n",
    "\n",
    "Ceci \n",
    "* numérote les cellules code dans l'ordre et \n",
    "* vous permet de corriger des éventuelles erreurs.\n",
    "\n",
    "Jupyter Menu File > Print Preview  \n",
    "Safari  Menu Fichier > Imprimer > PDF > Enregistrer au format PDF"
   ]
  }
 ],
 "metadata": {
  "kernelspec": {
   "display_name": "Python 3",
   "language": "python",
   "name": "python3"
  },
  "language_info": {
   "codemirror_mode": {
    "name": "ipython",
    "version": 3
   },
   "file_extension": ".py",
   "mimetype": "text/x-python",
   "name": "python",
   "nbconvert_exporter": "python",
   "pygments_lexer": "ipython3",
   "version": "3.7.1"
  }
 },
 "nbformat": 4,
 "nbformat_minor": 2
}
