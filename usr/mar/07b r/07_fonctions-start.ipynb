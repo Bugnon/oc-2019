{
 "cells": [
  {
   "cell_type": "markdown",
   "metadata": {},
   "source": [
    "# Les fonctions\n",
    "Objectifs de ce chapitre\n",
    "* Comprendre l'utilité de sous-programmes\n",
    "* Savoir écrire une fonction\n",
    "* Connaître la différence entre variable locale/globale\n",
    "* Maîtriser le méchanisme de passage"
   ]
  },
  {
   "cell_type": "markdown",
   "metadata": {},
   "source": [
    "# Qu'est-ce qu'une fonction\n",
    "Une fonction est un petit programme qui rend un service determiné."
   ]
  },
  {
   "cell_type": "markdown",
   "metadata": {},
   "source": [
    "## Sorties d'une fonctions\n",
    "Une fonction peux avoir zéro ou une sorties.  \n",
    "Testez la valeur et le type de sorties des fonctions ``print(123)``, ``input()`` et ``len('abc')``."
   ]
  },
  {
   "cell_type": "code",
   "execution_count": 1,
   "metadata": {},
   "outputs": [
    {
     "name": "stdout",
     "output_type": "stream",
     "text": [
      "123\n",
      "None\n",
      "<class 'NoneType'>\n"
     ]
    }
   ],
   "source": [
    "x = print(123)\n",
    "print(x)\n",
    "print(type(x))"
   ]
  },
  {
   "cell_type": "code",
   "execution_count": 2,
   "metadata": {},
   "outputs": [
    {
     "name": "stdout",
     "output_type": "stream",
     "text": [
      "votre nom: r\n",
      "r\n",
      "<class 'str'>\n"
     ]
    }
   ],
   "source": [
    "x = input('votre nom: ')\n",
    "print(x)\n",
    "print(type(x))"
   ]
  },
  {
   "cell_type": "code",
   "execution_count": null,
   "metadata": {},
   "outputs": [],
   "source": [
    "x = len('abc')\n",
    "print(x)\n",
    "print(type(x))"
   ]
  },
  {
   "cell_type": "markdown",
   "metadata": {},
   "source": [
    "## Entrées d'une fonction"
   ]
  },
  {
   "cell_type": "markdown",
   "metadata": {},
   "source": [
    "* Faites 3 essais d'utiliser la fonction ``max`` avec un nombre différents d'entrées. \n",
    "* Si vous obtenez une erreur, recopier l'erreur dans la cellule et mettez tous en commentaire."
   ]
  },
  {
   "cell_type": "code",
   "execution_count": null,
   "metadata": {},
   "outputs": [],
   "source": [
    "# max()\n",
    "# TypeError: max expected 1 arguments, got 0"
   ]
  },
  {
   "cell_type": "code",
   "execution_count": null,
   "metadata": {},
   "outputs": [],
   "source": [
    "#max(2)\n",
    "# TypeError: 'int' object is not iterable"
   ]
  },
  {
   "cell_type": "code",
   "execution_count": null,
   "metadata": {},
   "outputs": [],
   "source": [
    "max(2, 30, 4, 5)"
   ]
  },
  {
   "cell_type": "markdown",
   "metadata": {},
   "source": [
    "## Différence avec une fonction mathématique\n",
    "Une fonction informatique ressemble à une fonction mathématique: \n",
    "* elle a des paramètres\n",
    "* elle retourne une valeur\n",
    "* sa syntaxe est similaire: \n",
    "    * nom de fonction\n",
    "    * parenthèses\n",
    "    * liste d'arguments séparés par une virgule\n",
    "    \n",
    "Mais il a aussi de différences. Une fonction informatique peut:\n",
    "* retourner rien (``None``), comme ``print``\n",
    "* avoir un effet secondaire d'écrire vers la console, comme ``print``\n",
    "* modifier une variable\n",
    "* de prendre ses paramètres ailleur, comme ``input``\n"
   ]
  },
  {
   "cell_type": "markdown",
   "metadata": {},
   "source": [
    "# Définir une nouvelle fonction\n",
    "Une fonction \n",
    "* permet d'executer un bout de code **multiple fois**\n",
    "* augmente la **compréhension** du programme\n",
    "* permet la **réutilisation**  de code, en créant des collections (modules, bibliothèques)\n",
    "\n",
    "La syntaxe pour définir une fonction est:\n",
    "```\n",
    "def nom_func(arg0, arg1, ...):\n",
    "    instr\n",
    "    return val\n",
    "```\n",
    "\n",
    "* mot-clé ``def``\n",
    "* nom de fonction\n",
    "* parenthèses\n",
    "* 0 ou plus d'arguments\n",
    "* deux-points (``:``)\n",
    "* bloc indenté\n",
    "* mot-clé ``return`` suivi d'une valeur\n"
   ]
  },
  {
   "cell_type": "markdown",
   "metadata": {},
   "source": [
    "## Fonction sans paramètre\n",
    "Crée une fonction fonction qui dessine un rectangle 4x10 avec la lettre 'H'\n",
    "```\n",
    "HHHHHHHHHH\n",
    "HHHHHHHHHH\n",
    "HHHHHHHHHH\n",
    "HHHHHHHHHH\n",
    "```"
   ]
  },
  {
   "cell_type": "markdown",
   "metadata": {},
   "source": [
    "### Définition"
   ]
  },
  {
   "cell_type": "code",
   "execution_count": null,
   "metadata": {},
   "outputs": [],
   "source": [
    "def rectangle0():\n",
    "    # print the letter 'H' in 4 lines of 10 caracters\n",
    "    for l in range(4):\n",
    "        print(\"HHHHHHHHHH\")"
   ]
  },
  {
   "cell_type": "markdown",
   "metadata": {},
   "source": [
    "### Appel"
   ]
  },
  {
   "cell_type": "code",
   "execution_count": null,
   "metadata": {},
   "outputs": [],
   "source": [
    "rectangle0()"
   ]
  },
  {
   "cell_type": "markdown",
   "metadata": {},
   "source": [
    "## Fonctions avec paramètres d'entrée\n",
    "Nous allons créer des fonctions plus complexee avec multiples paramètres d'entrée."
   ]
  },
  {
   "cell_type": "markdown",
   "metadata": {},
   "source": [
    "### Rectangle\n",
    "Créer une fonction qui dessine une rectangle avec 3 paramètres d'entrées.\n",
    "```\n",
    "########################################\n",
    "########################################\n",
    "########################################\n",
    "```"
   ]
  },
  {
   "cell_type": "code",
   "execution_count": null,
   "metadata": {},
   "outputs": [],
   "source": [
    "def rectangle(car, rows, cols):\n",
    "    # print the caracter car in a rectangle of rows-x-cols\n",
    "    line=\"\"\n",
    "    for i in range(cols):\n",
    "        line+=car\n",
    "    for i in range(rows):\n",
    "        print(line)"
   ]
  },
  {
   "cell_type": "code",
   "execution_count": null,
   "metadata": {},
   "outputs": [],
   "source": [
    "def rectangle2(car, rows, cols):\n",
    "    # print the caracter car in a rectangle of rows-x-cols\n",
    "    for i in range(rows):\n",
    "        print(car*cols)"
   ]
  },
  {
   "cell_type": "code",
   "execution_count": null,
   "metadata": {},
   "outputs": [],
   "source": [
    "rectangle('#', 4, 30)"
   ]
  },
  {
   "cell_type": "code",
   "execution_count": null,
   "metadata": {},
   "outputs": [],
   "source": [
    "rectangle2('?', 6, 64)"
   ]
  },
  {
   "cell_type": "markdown",
   "metadata": {},
   "source": [
    "### Pyramide\n",
    "Definissez une fonction qui dessine une pyramide symmétrique de hautre $h$.\n",
    "```\n",
    "        &\n",
    "       &&&\n",
    "      &&&&&\n",
    "     &&&&&&&\n",
    "    &&&&&&&&&\n",
    "   &&&&&&&&&&&\n",
    "  &&&&&&&&&&&&&\n",
    " &&&&&&&&&&&&&&&\n",
    " ```"
   ]
  },
  {
   "cell_type": "code",
   "execution_count": 8,
   "metadata": {},
   "outputs": [],
   "source": [
    "def pyramid(car, h):\n",
    "    # print a symmetric pyramid of height h, using caracter c\n",
    "    for i in range(h):\n",
    "        print(\" \"*(h-i)+car*(2*i+1))"
   ]
  },
  {
   "cell_type": "code",
   "execution_count": 9,
   "metadata": {
    "scrolled": true
   },
   "outputs": [
    {
     "name": "stdout",
     "output_type": "stream",
     "text": [
      "        &\n",
      "       &&&\n",
      "      &&&&&\n",
      "     &&&&&&&\n",
      "    &&&&&&&&&\n",
      "   &&&&&&&&&&&\n",
      "  &&&&&&&&&&&&&\n",
      " &&&&&&&&&&&&&&&\n"
     ]
    }
   ],
   "source": [
    "pyramid('&', 8)"
   ]
  },
  {
   "cell_type": "markdown",
   "metadata": {},
   "source": [
    "### Boîte\n",
    "Définissez une fonction qui dessine une boite.\n",
    "```\n",
    "XXXXXXXXXXXXXXXXXXXXXXXXXXXXXXXXXXXXXXXXXXXXXXXXXX\n",
    "X                                                X\n",
    "X                                                X\n",
    "X                                                X\n",
    "X                                                X\n",
    "XXXXXXXXXXXXXXXXXXXXXXXXXXXXXXXXXXXXXXXXXXXXXXXXX`\n",
    "```"
   ]
  },
  {
   "cell_type": "code",
   "execution_count": 23,
   "metadata": {},
   "outputs": [],
   "source": [
    "def box(c, height, width):\n",
    "    # print a box frame with caracter c and dimension height x width\n",
    "    \n",
    "    texte = c * width + \"\\n\"\n",
    "    for i in range(height - 2):\n",
    "        texte += c + \" \" * (width - 2) + c + \"\\n\"\n",
    "    texte += c * width\n",
    "    print(texte)\n",
    "    "
   ]
  },
  {
   "cell_type": "code",
   "execution_count": 29,
   "metadata": {},
   "outputs": [],
   "source": [
    "def box(c, h, w):\n",
    "    print(c * w)\n",
    "    for i in range(h - 2):\n",
    "        print(c + \" \" * (w - 2) + c)\n",
    "    print(c * w)"
   ]
  },
  {
   "cell_type": "code",
   "execution_count": 30,
   "metadata": {},
   "outputs": [
    {
     "name": "stdout",
     "output_type": "stream",
     "text": [
      "XXXXXXXXXXXXXXXXXXXXXXXXXXXXXXXXXXXXXXXXXXXXXXXXXX\n",
      "X                                                X\n",
      "X                                                X\n",
      "X                                                X\n",
      "X                                                X\n",
      "XXXXXXXXXXXXXXXXXXXXXXXXXXXXXXXXXXXXXXXXXXXXXXXXXX\n"
     ]
    }
   ],
   "source": [
    "box('X', 6, 50)"
   ]
  },
  {
   "cell_type": "markdown",
   "metadata": {},
   "source": [
    "### Table de multiplication\n",
    "Définissez une fonction qui dessine une table de multiplication.  \n",
    "Utilisez des tabulateurs pour l'alignement des colonnes ``print(i, end='\\t')``\n",
    "```\n",
    "1\t2\t3\t4\t5\t6\t7\t\n",
    "---------------------------------\n",
    "1\t2\t3\t4\t5\t6\t7\t\n",
    "2\t4\t6\t8\t10\t12\t14\t\n",
    "3\t6\t9\t12\t15\t18\t21\t\n",
    "```"
   ]
  },
  {
   "cell_type": "code",
   "execution_count": 27,
   "metadata": {},
   "outputs": [],
   "source": [
    "def table_multiplication(n, m):\n",
    "    # print a multiplication table with n lines and m colons\n",
    "    texte = \"\"\n",
    "    for i in range(m):\n",
    "        texte += str(i + 1) + \"    \"\n",
    "    texte += \"\\n\" + 5 * m * \"-\" + \"\\n\"\n",
    "    \n",
    "    for j in range(n):\n",
    "        for i in range(m):\n",
    "            texte += str((i + 1) * (j + 1)) + \"    \"\n",
    "        texte += \"\\n\"\n",
    "    print(texte)"
   ]
  },
  {
   "cell_type": "code",
   "execution_count": 55,
   "metadata": {},
   "outputs": [],
   "source": [
    "def table_multiplication(n, m):\n",
    "    # print a multiplication table with n lines and m colons\n",
    "    texte = \"\"\n",
    "    for i in range(m):\n",
    "        texte += str(i + 1) + \"\\t\"\n",
    "    texte += \"\\n\" + 8 * m * \"-\" + \"\\n\"\n",
    "    \n",
    "    for j in range(n):\n",
    "        for i in range(m):\n",
    "            texte += str((i + 1) * (j + 1)) + \"\\t\"\n",
    "        texte += \"\\n\"\n",
    "    print(texte)"
   ]
  },
  {
   "cell_type": "code",
   "execution_count": 58,
   "metadata": {},
   "outputs": [
    {
     "name": "stdout",
     "output_type": "stream",
     "text": [
      "1\t2\t3\t4\t5\t6\t7\t8\t9\t10\t\n",
      "--------------------------------------------------------------------------------\n",
      "1\t2\t3\t4\t5\t6\t7\t8\t9\t10\t\n",
      "2\t4\t6\t8\t10\t12\t14\t16\t18\t20\t\n",
      "3\t6\t9\t12\t15\t18\t21\t24\t27\t30\t\n",
      "4\t8\t12\t16\t20\t24\t28\t32\t36\t40\t\n",
      "5\t10\t15\t20\t25\t30\t35\t40\t45\t50\t\n",
      "6\t12\t18\t24\t30\t36\t42\t48\t54\t60\t\n",
      "7\t14\t21\t28\t35\t42\t49\t56\t63\t70\t\n",
      "8\t16\t24\t32\t40\t48\t56\t64\t72\t80\t\n",
      "9\t18\t27\t36\t45\t54\t63\t72\t81\t90\t\n",
      "10\t20\t30\t40\t50\t60\t70\t80\t90\t100\t\n",
      "\n"
     ]
    }
   ],
   "source": [
    "table_multiplication(10, 10)"
   ]
  },
  {
   "cell_type": "markdown",
   "metadata": {},
   "source": [
    "## correction"
   ]
  },
  {
   "cell_type": "code",
   "execution_count": 52,
   "metadata": {},
   "outputs": [],
   "source": [
    "def table_multiplication(n, m):\n",
    "    # print a multiplication table with n lines and m colons\n",
    "    for i in range(1,m+1):\n",
    "        print(i, end=\"\\t\")\n",
    "    print(\"\\n\"+\"-\" * 8 * m)\n",
    "    for j in range(1, n+1):\n",
    "        for i in range(1, m+1):\n",
    "            print(j * i, end = \"\\t\")\n",
    "        print()\n"
   ]
  },
  {
   "cell_type": "code",
   "execution_count": 53,
   "metadata": {},
   "outputs": [
    {
     "name": "stdout",
     "output_type": "stream",
     "text": [
      "1\t2\t3\t4\t5\t6\t7\t\n",
      "--------------------------------------------------------\n",
      "1\t2\t3\t4\t5\t6\t7\t\n",
      "2\t4\t6\t8\t10\t12\t14\t\n",
      "3\t6\t9\t12\t15\t18\t21\t\n",
      "4\t8\t12\t16\t20\t24\t28\t\n",
      "5\t10\t15\t20\t25\t30\t35\t\n"
     ]
    }
   ],
   "source": [
    "table_multiplication(5, 7)"
   ]
  },
  {
   "cell_type": "code",
   "execution_count": 54,
   "metadata": {},
   "outputs": [
    {
     "name": "stdout",
     "output_type": "stream",
     "text": [
      "1\t2\t3\t4 aaaaa"
     ]
    }
   ],
   "source": [
    "print(1,2,3,4, sep=\"\\t\", end=\" aaaaa\")"
   ]
  },
  {
   "cell_type": "markdown",
   "metadata": {},
   "source": [
    "## Fonction qui renvoie un résultat\n",
    "Créez trois fonctions qui calculent le diamètre, la circumférence et la surface d'un cercle, à partir du rayon."
   ]
  },
  {
   "cell_type": "code",
   "execution_count": 59,
   "metadata": {},
   "outputs": [],
   "source": [
    "from math import pi\n",
    "\n",
    "def diameter(r):\n",
    "    return 2 * r"
   ]
  },
  {
   "cell_type": "code",
   "execution_count": 61,
   "metadata": {},
   "outputs": [],
   "source": [
    "def circumference(r):\n",
    "    return pi * diameter(r)"
   ]
  },
  {
   "cell_type": "code",
   "execution_count": 63,
   "metadata": {},
   "outputs": [],
   "source": [
    "def surface(r):\n",
    "    return pi * r ** 2"
   ]
  },
  {
   "cell_type": "code",
   "execution_count": 60,
   "metadata": {},
   "outputs": [
    {
     "data": {
      "text/plain": [
       "3.0"
      ]
     },
     "execution_count": 60,
     "metadata": {},
     "output_type": "execute_result"
    }
   ],
   "source": [
    "diameter(1.5)"
   ]
  },
  {
   "cell_type": "code",
   "execution_count": 62,
   "metadata": {},
   "outputs": [
    {
     "data": {
      "text/plain": [
       "9.42477796076938"
      ]
     },
     "execution_count": 62,
     "metadata": {},
     "output_type": "execute_result"
    }
   ],
   "source": [
    "circumference(1.5)"
   ]
  },
  {
   "cell_type": "code",
   "execution_count": 64,
   "metadata": {},
   "outputs": [
    {
     "data": {
      "text/plain": [
       "7.0685834705770345"
      ]
     },
     "execution_count": 64,
     "metadata": {},
     "output_type": "execute_result"
    }
   ],
   "source": [
    "surface(1.5)"
   ]
  },
  {
   "cell_type": "code",
   "execution_count": 65,
   "metadata": {},
   "outputs": [
    {
     "name": "stdout",
     "output_type": "stream",
     "text": [
      "r= 1 sruface = 3.141592653589793\n",
      "r= 2 sruface = 12.566370614359172\n",
      "r= 3 sruface = 28.274333882308138\n",
      "r= 4 sruface = 50.26548245743669\n",
      "r= 5 sruface = 78.53981633974483\n",
      "r= 6 sruface = 113.09733552923255\n",
      "r= 7 sruface = 153.93804002589985\n",
      "r= 8 sruface = 201.06192982974676\n",
      "r= 9 sruface = 254.46900494077323\n"
     ]
    }
   ],
   "source": [
    "for r in range(1,10):\n",
    "    print(\"r=\",r,\"sruface =\", surface(r))"
   ]
  },
  {
   "cell_type": "markdown",
   "metadata": {},
   "source": [
    "Calculer la somme d'une liste"
   ]
  },
  {
   "cell_type": "code",
   "execution_count": 66,
   "metadata": {},
   "outputs": [],
   "source": [
    "def somme(liste):\n",
    "    res = 0\n",
    "    for x in liste:\n",
    "        res = res + x\n",
    "        #print(x, res)\n",
    "    return res"
   ]
  },
  {
   "cell_type": "code",
   "execution_count": 68,
   "metadata": {},
   "outputs": [
    {
     "data": {
      "text/plain": [
       "20"
      ]
     },
     "execution_count": 68,
     "metadata": {},
     "output_type": "execute_result"
    }
   ],
   "source": [
    "somme([2, 3, 14, 1])"
   ]
  },
  {
   "cell_type": "markdown",
   "metadata": {},
   "source": [
    "Calculer la moyenne d'une liste, en utilisant la fonction ``somme()``"
   ]
  },
  {
   "cell_type": "code",
   "execution_count": 69,
   "metadata": {},
   "outputs": [],
   "source": [
    "def moyenne(liste):\n",
    "    n = len(liste)\n",
    "    return somme(liste) / n"
   ]
  },
  {
   "cell_type": "code",
   "execution_count": 70,
   "metadata": {},
   "outputs": [
    {
     "data": {
      "text/plain": [
       "7.166666666666667"
      ]
     },
     "execution_count": 70,
     "metadata": {},
     "output_type": "execute_result"
    }
   ],
   "source": [
    "liste = [1, 2, 3, 10, 23, 4]\n",
    "moyenne(liste)"
   ]
  },
  {
   "cell_type": "markdown",
   "metadata": {},
   "source": [
    "## Bien comprendre l'instruction return\n",
    "Le mot-clé ``return`` permet de définir le résultat de la fonction."
   ]
  },
  {
   "cell_type": "code",
   "execution_count": 71,
   "metadata": {},
   "outputs": [],
   "source": [
    "def sans_return(x):\n",
    "    print(2*x)\n",
    "    #return None"
   ]
  },
  {
   "cell_type": "code",
   "execution_count": 72,
   "metadata": {},
   "outputs": [],
   "source": [
    "def avec_return(x):\n",
    "    return 2*x"
   ]
  },
  {
   "cell_type": "code",
   "execution_count": 73,
   "metadata": {},
   "outputs": [
    {
     "name": "stdout",
     "output_type": "stream",
     "text": [
      "40\n",
      "None\n"
     ]
    }
   ],
   "source": [
    "print(sans_return(20))"
   ]
  },
  {
   "cell_type": "code",
   "execution_count": 74,
   "metadata": {},
   "outputs": [
    {
     "name": "stdout",
     "output_type": "stream",
     "text": [
      "40\n"
     ]
    }
   ],
   "source": [
    "print(avec_return(20))"
   ]
  },
  {
   "cell_type": "markdown",
   "metadata": {},
   "source": [
    "## Execution d'un appel de fonction\n",
    "Les paramètres d'une fonction sont comme des variables. Ils on un nom et lors de l'execution ils sont affecté."
   ]
  },
  {
   "cell_type": "code",
   "execution_count": 79,
   "metadata": {},
   "outputs": [],
   "source": [
    "def add2(x):\n",
    "    print('add2: x =', x)\n",
    "    return x + 2"
   ]
  },
  {
   "cell_type": "markdown",
   "metadata": {},
   "source": [
    "La fonction ``add2`` additionne 2 à son argument ``x``.  \n",
    "La variable ``x`` et l'argumment ``x`` sont deux variables bien distinct."
   ]
  },
  {
   "cell_type": "code",
   "execution_count": 88,
   "metadata": {},
   "outputs": [
    {
     "name": "stdout",
     "output_type": "stream",
     "text": [
      "add2: x = 1\n",
      "x = 10\n"
     ]
    }
   ],
   "source": [
    "x = 10\n",
    "add2(1)\n",
    "print('x =', x)"
   ]
  },
  {
   "cell_type": "markdown",
   "metadata": {},
   "source": [
    "La argument ``x`` prend encore une autre valeur (3)."
   ]
  },
  {
   "cell_type": "code",
   "execution_count": 89,
   "metadata": {},
   "outputs": [
    {
     "name": "stdout",
     "output_type": "stream",
     "text": [
      "add2: x = 3\n",
      "x = 10\n"
     ]
    }
   ],
   "source": [
    "add2(3)\n",
    "print('x =', x)"
   ]
  },
  {
   "cell_type": "markdown",
   "metadata": {},
   "source": [
    "### Calcul de la valeur des paramètres\n",
    "Lors de l'exécution de l'appel de fonction d'une fonction, la première étape est de calculer les valeurs des paramètres.\n",
    "Le paremètre d'une fonction peux être une expression. L'expression est evalué et le résultat est donné à la fonction."
   ]
  },
  {
   "cell_type": "code",
   "execution_count": 92,
   "metadata": {},
   "outputs": [
    {
     "name": "stdout",
     "output_type": "stream",
     "text": [
      "add2: x = 10\n",
      "x = 5\n"
     ]
    }
   ],
   "source": [
    "add2(2*x)\n",
    "print('x =', x)"
   ]
  },
  {
   "cell_type": "markdown",
   "metadata": {},
   "source": [
    "Le paramètre peut même être une fonction."
   ]
  },
  {
   "cell_type": "code",
   "execution_count": 91,
   "metadata": {},
   "outputs": [
    {
     "name": "stdout",
     "output_type": "stream",
     "text": [
      "add2: x = 10\n",
      "add2: x = 12\n",
      "x = 5\n"
     ]
    }
   ],
   "source": [
    "x = 5\n",
    "add2(add2(2*x))\n",
    "print('x =', x)"
   ]
  },
  {
   "cell_type": "markdown",
   "metadata": {},
   "source": [
    "### Erreur de typage\n",
    "En Python on ne précise pas le type des parmètre des fonctions."
   ]
  },
  {
   "cell_type": "code",
   "execution_count": 93,
   "metadata": {},
   "outputs": [
    {
     "name": "stdout",
     "output_type": "stream",
     "text": [
      "add2: x = abc\n"
     ]
    },
    {
     "ename": "TypeError",
     "evalue": "can only concatenate str (not \"int\") to str",
     "output_type": "error",
     "traceback": [
      "\u001b[0;31m---------------------------------------------------------------------------\u001b[0m",
      "\u001b[0;31mTypeError\u001b[0m                                 Traceback (most recent call last)",
      "\u001b[0;32m<ipython-input-93-737bd3922223>\u001b[0m in \u001b[0;36m<module>\u001b[0;34m\u001b[0m\n\u001b[0;32m----> 1\u001b[0;31m \u001b[0madd2\u001b[0m\u001b[0;34m(\u001b[0m\u001b[0;34m'abc'\u001b[0m\u001b[0;34m)\u001b[0m\u001b[0;34m\u001b[0m\u001b[0;34m\u001b[0m\u001b[0m\n\u001b[0m",
      "\u001b[0;32m<ipython-input-79-b44e4a21e9e0>\u001b[0m in \u001b[0;36madd2\u001b[0;34m(x)\u001b[0m\n\u001b[1;32m      1\u001b[0m \u001b[0;32mdef\u001b[0m \u001b[0madd2\u001b[0m\u001b[0;34m(\u001b[0m\u001b[0mx\u001b[0m\u001b[0;34m)\u001b[0m\u001b[0;34m:\u001b[0m\u001b[0;34m\u001b[0m\u001b[0;34m\u001b[0m\u001b[0m\n\u001b[1;32m      2\u001b[0m     \u001b[0mprint\u001b[0m\u001b[0;34m(\u001b[0m\u001b[0;34m'add2: x ='\u001b[0m\u001b[0;34m,\u001b[0m \u001b[0mx\u001b[0m\u001b[0;34m)\u001b[0m\u001b[0;34m\u001b[0m\u001b[0;34m\u001b[0m\u001b[0m\n\u001b[0;32m----> 3\u001b[0;31m     \u001b[0;32mreturn\u001b[0m \u001b[0mx\u001b[0m \u001b[0;34m+\u001b[0m \u001b[0;36m2\u001b[0m\u001b[0;34m\u001b[0m\u001b[0;34m\u001b[0m\u001b[0m\n\u001b[0m",
      "\u001b[0;31mTypeError\u001b[0m: can only concatenate str (not \"int\") to str"
     ]
    }
   ],
   "source": [
    "#add2('abc')"
   ]
  },
  {
   "cell_type": "markdown",
   "metadata": {},
   "source": [
    "Par contre la fonction ``mul2`` fonction avec des paramètres de type int, str, bool."
   ]
  },
  {
   "cell_type": "code",
   "execution_count": 94,
   "metadata": {},
   "outputs": [],
   "source": [
    "def mul2(x):\n",
    "    print('mul2: x =', x, ' return ', x * 2)\n",
    "    return x * 2"
   ]
  },
  {
   "cell_type": "code",
   "execution_count": 97,
   "metadata": {},
   "outputs": [
    {
     "name": "stdout",
     "output_type": "stream",
     "text": [
      "mul2: x = 10  return  20\n",
      "mul2: x = abc  return  abcabc\n",
      "mul2: x = True  return  2\n",
      "mul2: x = False  return  0\n",
      "mul2: x = 23  return  46\n"
     ]
    },
    {
     "data": {
      "text/plain": [
       "46"
      ]
     },
     "execution_count": 97,
     "metadata": {},
     "output_type": "execute_result"
    }
   ],
   "source": [
    "x = 10\n",
    "mul2(x)\n",
    "mul2('abc')\n",
    "mul2(True)\n",
    "mul2(False)\n",
    "mul2(23*True)"
   ]
  },
  {
   "cell_type": "markdown",
   "metadata": {},
   "source": [
    "## Fonctions et mémoire"
   ]
  },
  {
   "cell_type": "code",
   "execution_count": 118,
   "metadata": {},
   "outputs": [
    {
     "name": "stdout",
     "output_type": "stream",
     "text": [
      "[10, 1, 2] 10 c [0, 1, 5]\n",
      "[10, 1, 2] 0 [0, 1, 2] [0, 1, 5]\n"
     ]
    },
    {
     "data": {
      "text/plain": [
       "list"
      ]
     },
     "execution_count": 118,
     "metadata": {},
     "output_type": "execute_result"
    }
   ],
   "source": [
    "l=[0,1,2]\n",
    "c=[0,1,2]\n",
    "d=[0,1,5]\n",
    "b=0\n",
    "def test(l,b,c,d):\n",
    "    l[0]=10\n",
    "    c=\"c\"\n",
    "    b=10\n",
    "    d=str(d)\n",
    "    type(d)\n",
    "    print(l,b,c,d)\n",
    "test(l,b,c,d)\n",
    "print(l,b,c,d)\n",
    "type(d)"
   ]
  },
  {
   "cell_type": "markdown",
   "metadata": {},
   "source": [
    "## Valeurs mutables et pasage de paramètre"
   ]
  },
  {
   "cell_type": "markdown",
   "metadata": {},
   "source": [
    "# Turtle graphics"
   ]
  },
  {
   "cell_type": "code",
   "execution_count": 113,
   "metadata": {},
   "outputs": [],
   "source": [
    "from turtle import *\n",
    "forward(100)\n",
    "left(90)\n",
    "forward(300)\n",
    "for i in range(4):\n",
    "    right(90)\n",
    "    forward(110)\n",
    "pencolor(\"red\")\n",
    "left(90)"
   ]
  },
  {
   "cell_type": "code",
   "execution_count": null,
   "metadata": {},
   "outputs": [],
   "source": []
  }
 ],
 "metadata": {
  "kernelspec": {
   "display_name": "Python 3",
   "language": "python",
   "name": "python3"
  },
  "language_info": {
   "codemirror_mode": {
    "name": "ipython",
    "version": 3
   },
   "file_extension": ".py",
   "mimetype": "text/x-python",
   "name": "python",
   "nbconvert_exporter": "python",
   "pygments_lexer": "ipython3",
   "version": "3.7.1"
  }
 },
 "nbformat": 4,
 "nbformat_minor": 2
}
